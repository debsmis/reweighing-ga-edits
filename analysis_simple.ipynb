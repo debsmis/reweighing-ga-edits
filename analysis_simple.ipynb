{
 "cells": [
  {
   "cell_type": "code",
   "execution_count": 7,
   "id": "686427c1-5057-47e0-ba13-94a550f337fb",
   "metadata": {},
   "outputs": [
    {
     "name": "stdout",
     "output_type": "stream",
     "text": [
      "[0, 3]\n"
     ]
    }
   ],
   "source": [
    "import glob\n",
    "import numpy as np\n",
    "import pandas as pd\n",
    "import matplotlib.pyplot as plt\n",
    "import pickle\n",
    "from tqdm import tqdm, tnrange, tqdm_notebook\n",
    "import os\n",
    "\n",
    "pd.set_option('display.max_rows', None)\n",
    "# PARETO FRONT TOOLS\n",
    "def check_dominance(p1,p2):\n",
    "    \"\"\"check if p1 dominates p2. Assuming that the objectives are to be minimized.\"\"\"\n",
    "    flag1 = 0\n",
    "    flag2 = 0\n",
    "\n",
    "    for o1,o2 in zip(p1,p2):\n",
    "        if o1 < o2:\n",
    "            flag1 = 1\n",
    "        elif o1 > o2:\n",
    "            flag2 = 1\n",
    "\n",
    "    if flag1==1 and flag2 == 0:\n",
    "        return 1\n",
    "    elif flag1==0 and flag2 == 1:\n",
    "        return -1\n",
    "    else:\n",
    "        return 0\n",
    "\n",
    "\n",
    "def front(obj1,obj2):\n",
    "    \"\"\"return indices from x and y that are on the Pareto front. Assume that the objectives are to be minimized.\"\"\"\n",
    "    rank = []\n",
    "    assert(len(obj1)==len(obj2))\n",
    "    n_inds = len(obj1)\n",
    "    front = []\n",
    "\n",
    "    for i in np.arange(n_inds):\n",
    "        p = (obj1[i],obj2[i])\n",
    "        dcount = 0\n",
    "        dom = []\n",
    "        for j in np.arange(n_inds):\n",
    "            q = (obj1[j],obj2[j])\n",
    "            compare = check_dominance(p,q)\n",
    "            if compare == 1:\n",
    "                dom.append(j)\n",
    "            elif compare == -1:\n",
    "                dcount = dcount +1\n",
    "\n",
    "        if dcount == 0:\n",
    "            front.append(i)\n",
    "\n",
    "    f_obj2 = [obj2[f] for f in front]\n",
    "    s2 = np.argsort(np.array(f_obj2))\n",
    "    front = [front[s] for s in s2]\n",
    "\n",
    "    return front\n",
    "\n",
    "print(front([1, 2, 3, 0, 4], [0, 1, 2, 1, 4]))"
   ]
  },
  {
   "cell_type": "code",
   "execution_count": 13,
   "id": "312100d9-49db-4ab1-b97e-87ddf530bfa3",
   "metadata": {},
   "outputs": [
    {
     "name": "stdout",
     "output_type": "stream",
     "text": [
      "Current working directory: /Users/sainia3/Documents/reweighing-ga\n"
     ]
    }
   ],
   "source": [
    "current_directory = os.getcwd()\n",
    "print(f\"Current working directory: {current_directory}\")"
   ]
  },
  {
   "cell_type": "code",
   "execution_count": 16,
   "id": "bde7cc5b",
   "metadata": {},
   "outputs": [
    {
     "name": "stdout",
     "output_type": "stream",
     "text": [
      "['RandomForestClassifier']\n",
      "Processing task_id: heart_disease\n",
      "Processing experiment: Equal Weights\n",
      "Processing run: 0\n"
     ]
    },
    {
     "name": "stderr",
     "output_type": "stream",
     "text": [
      "/Users/sainia3/opt/anaconda3/envs/tpot2env/lib/python3.10/site-packages/deap/tools/_hypervolume/pyhv.py:34: RuntimeWarning: Falling back to the python version of hypervolume module. Expect this to be very slow.\n",
      "  warnings.warn(\"Falling back to the python version of hypervolume \"\n",
      "/Users/sainia3/opt/anaconda3/envs/tpot2env/lib/python3.10/site-packages/deap/tools/_hypervolume/pyhv.py:34: RuntimeWarning: Falling back to the python version of hypervolume module. Expect this to be very slow.\n",
      "  warnings.warn(\"Falling back to the python version of hypervolume \"\n"
     ]
    },
    {
     "name": "stdout",
     "output_type": "stream",
     "text": [
      "Processing run: 1\n"
     ]
    },
    {
     "name": "stderr",
     "output_type": "stream",
     "text": [
      "/Users/sainia3/opt/anaconda3/envs/tpot2env/lib/python3.10/site-packages/deap/tools/_hypervolume/pyhv.py:34: RuntimeWarning: Falling back to the python version of hypervolume module. Expect this to be very slow.\n",
      "  warnings.warn(\"Falling back to the python version of hypervolume \"\n",
      "/Users/sainia3/opt/anaconda3/envs/tpot2env/lib/python3.10/site-packages/deap/tools/_hypervolume/pyhv.py:34: RuntimeWarning: Falling back to the python version of hypervolume module. Expect this to be very slow.\n",
      "  warnings.warn(\"Falling back to the python version of hypervolume \"\n"
     ]
    },
    {
     "name": "stdout",
     "output_type": "stream",
     "text": [
      "Processing run: 2\n"
     ]
    },
    {
     "name": "stderr",
     "output_type": "stream",
     "text": [
      "/Users/sainia3/opt/anaconda3/envs/tpot2env/lib/python3.10/site-packages/deap/tools/_hypervolume/pyhv.py:34: RuntimeWarning: Falling back to the python version of hypervolume module. Expect this to be very slow.\n",
      "  warnings.warn(\"Falling back to the python version of hypervolume \"\n",
      "/Users/sainia3/opt/anaconda3/envs/tpot2env/lib/python3.10/site-packages/deap/tools/_hypervolume/pyhv.py:34: RuntimeWarning: Falling back to the python version of hypervolume module. Expect this to be very slow.\n",
      "  warnings.warn(\"Falling back to the python version of hypervolume \"\n"
     ]
    },
    {
     "name": "stdout",
     "output_type": "stream",
     "text": [
      "Processing run: 3\n"
     ]
    },
    {
     "name": "stderr",
     "output_type": "stream",
     "text": [
      "/Users/sainia3/opt/anaconda3/envs/tpot2env/lib/python3.10/site-packages/deap/tools/_hypervolume/pyhv.py:34: RuntimeWarning: Falling back to the python version of hypervolume module. Expect this to be very slow.\n",
      "  warnings.warn(\"Falling back to the python version of hypervolume \"\n",
      "/Users/sainia3/opt/anaconda3/envs/tpot2env/lib/python3.10/site-packages/deap/tools/_hypervolume/pyhv.py:34: RuntimeWarning: Falling back to the python version of hypervolume module. Expect this to be very slow.\n",
      "  warnings.warn(\"Falling back to the python version of hypervolume \"\n"
     ]
    },
    {
     "name": "stdout",
     "output_type": "stream",
     "text": [
      "Processing run: 4\n"
     ]
    },
    {
     "name": "stderr",
     "output_type": "stream",
     "text": [
      "/Users/sainia3/opt/anaconda3/envs/tpot2env/lib/python3.10/site-packages/deap/tools/_hypervolume/pyhv.py:34: RuntimeWarning: Falling back to the python version of hypervolume module. Expect this to be very slow.\n",
      "  warnings.warn(\"Falling back to the python version of hypervolume \"\n",
      "/Users/sainia3/opt/anaconda3/envs/tpot2env/lib/python3.10/site-packages/deap/tools/_hypervolume/pyhv.py:34: RuntimeWarning: Falling back to the python version of hypervolume module. Expect this to be very slow.\n",
      "  warnings.warn(\"Falling back to the python version of hypervolume \"\n"
     ]
    },
    {
     "name": "stdout",
     "output_type": "stream",
     "text": [
      "Processing run: 5\n"
     ]
    },
    {
     "name": "stderr",
     "output_type": "stream",
     "text": [
      "/Users/sainia3/opt/anaconda3/envs/tpot2env/lib/python3.10/site-packages/deap/tools/_hypervolume/pyhv.py:34: RuntimeWarning: Falling back to the python version of hypervolume module. Expect this to be very slow.\n",
      "  warnings.warn(\"Falling back to the python version of hypervolume \"\n",
      "/Users/sainia3/opt/anaconda3/envs/tpot2env/lib/python3.10/site-packages/deap/tools/_hypervolume/pyhv.py:34: RuntimeWarning: Falling back to the python version of hypervolume module. Expect this to be very slow.\n",
      "  warnings.warn(\"Falling back to the python version of hypervolume \"\n"
     ]
    },
    {
     "name": "stdout",
     "output_type": "stream",
     "text": [
      "Processing run: 6\n"
     ]
    },
    {
     "name": "stderr",
     "output_type": "stream",
     "text": [
      "/Users/sainia3/opt/anaconda3/envs/tpot2env/lib/python3.10/site-packages/deap/tools/_hypervolume/pyhv.py:34: RuntimeWarning: Falling back to the python version of hypervolume module. Expect this to be very slow.\n",
      "  warnings.warn(\"Falling back to the python version of hypervolume \"\n",
      "/Users/sainia3/opt/anaconda3/envs/tpot2env/lib/python3.10/site-packages/deap/tools/_hypervolume/pyhv.py:34: RuntimeWarning: Falling back to the python version of hypervolume module. Expect this to be very slow.\n",
      "  warnings.warn(\"Falling back to the python version of hypervolume \"\n"
     ]
    },
    {
     "name": "stdout",
     "output_type": "stream",
     "text": [
      "Processing run: 7\n"
     ]
    },
    {
     "name": "stderr",
     "output_type": "stream",
     "text": [
      "/Users/sainia3/opt/anaconda3/envs/tpot2env/lib/python3.10/site-packages/deap/tools/_hypervolume/pyhv.py:34: RuntimeWarning: Falling back to the python version of hypervolume module. Expect this to be very slow.\n",
      "  warnings.warn(\"Falling back to the python version of hypervolume \"\n",
      "/Users/sainia3/opt/anaconda3/envs/tpot2env/lib/python3.10/site-packages/deap/tools/_hypervolume/pyhv.py:34: RuntimeWarning: Falling back to the python version of hypervolume module. Expect this to be very slow.\n",
      "  warnings.warn(\"Falling back to the python version of hypervolume \"\n"
     ]
    },
    {
     "name": "stdout",
     "output_type": "stream",
     "text": [
      "Processing run: 8\n"
     ]
    },
    {
     "name": "stderr",
     "output_type": "stream",
     "text": [
      "/Users/sainia3/opt/anaconda3/envs/tpot2env/lib/python3.10/site-packages/deap/tools/_hypervolume/pyhv.py:34: RuntimeWarning: Falling back to the python version of hypervolume module. Expect this to be very slow.\n",
      "  warnings.warn(\"Falling back to the python version of hypervolume \"\n",
      "/Users/sainia3/opt/anaconda3/envs/tpot2env/lib/python3.10/site-packages/deap/tools/_hypervolume/pyhv.py:34: RuntimeWarning: Falling back to the python version of hypervolume module. Expect this to be very slow.\n",
      "  warnings.warn(\"Falling back to the python version of hypervolume \"\n"
     ]
    },
    {
     "name": "stdout",
     "output_type": "stream",
     "text": [
      "Processing run: 9\n"
     ]
    },
    {
     "name": "stderr",
     "output_type": "stream",
     "text": [
      "/Users/sainia3/opt/anaconda3/envs/tpot2env/lib/python3.10/site-packages/deap/tools/_hypervolume/pyhv.py:34: RuntimeWarning: Falling back to the python version of hypervolume module. Expect this to be very slow.\n",
      "  warnings.warn(\"Falling back to the python version of hypervolume \"\n",
      "/Users/sainia3/opt/anaconda3/envs/tpot2env/lib/python3.10/site-packages/deap/tools/_hypervolume/pyhv.py:34: RuntimeWarning: Falling back to the python version of hypervolume module. Expect this to be very slow.\n",
      "  warnings.warn(\"Falling back to the python version of hypervolume \"\n"
     ]
    },
    {
     "name": "stdout",
     "output_type": "stream",
     "text": [
      "Processing run: 10\n"
     ]
    },
    {
     "name": "stderr",
     "output_type": "stream",
     "text": [
      "/Users/sainia3/opt/anaconda3/envs/tpot2env/lib/python3.10/site-packages/deap/tools/_hypervolume/pyhv.py:34: RuntimeWarning: Falling back to the python version of hypervolume module. Expect this to be very slow.\n",
      "  warnings.warn(\"Falling back to the python version of hypervolume \"\n",
      "/Users/sainia3/opt/anaconda3/envs/tpot2env/lib/python3.10/site-packages/deap/tools/_hypervolume/pyhv.py:34: RuntimeWarning: Falling back to the python version of hypervolume module. Expect this to be very slow.\n",
      "  warnings.warn(\"Falling back to the python version of hypervolume \"\n"
     ]
    },
    {
     "name": "stdout",
     "output_type": "stream",
     "text": [
      "Processing run: 11\n"
     ]
    },
    {
     "name": "stderr",
     "output_type": "stream",
     "text": [
      "/Users/sainia3/opt/anaconda3/envs/tpot2env/lib/python3.10/site-packages/deap/tools/_hypervolume/pyhv.py:34: RuntimeWarning: Falling back to the python version of hypervolume module. Expect this to be very slow.\n",
      "  warnings.warn(\"Falling back to the python version of hypervolume \"\n",
      "/Users/sainia3/opt/anaconda3/envs/tpot2env/lib/python3.10/site-packages/deap/tools/_hypervolume/pyhv.py:34: RuntimeWarning: Falling back to the python version of hypervolume module. Expect this to be very slow.\n",
      "  warnings.warn(\"Falling back to the python version of hypervolume \"\n"
     ]
    },
    {
     "name": "stdout",
     "output_type": "stream",
     "text": [
      "Processing run: 12\n"
     ]
    },
    {
     "name": "stderr",
     "output_type": "stream",
     "text": [
      "/Users/sainia3/opt/anaconda3/envs/tpot2env/lib/python3.10/site-packages/deap/tools/_hypervolume/pyhv.py:34: RuntimeWarning: Falling back to the python version of hypervolume module. Expect this to be very slow.\n",
      "  warnings.warn(\"Falling back to the python version of hypervolume \"\n",
      "/Users/sainia3/opt/anaconda3/envs/tpot2env/lib/python3.10/site-packages/deap/tools/_hypervolume/pyhv.py:34: RuntimeWarning: Falling back to the python version of hypervolume module. Expect this to be very slow.\n",
      "  warnings.warn(\"Falling back to the python version of hypervolume \"\n"
     ]
    },
    {
     "name": "stdout",
     "output_type": "stream",
     "text": [
      "Processing run: 13\n"
     ]
    },
    {
     "name": "stderr",
     "output_type": "stream",
     "text": [
      "/Users/sainia3/opt/anaconda3/envs/tpot2env/lib/python3.10/site-packages/deap/tools/_hypervolume/pyhv.py:34: RuntimeWarning: Falling back to the python version of hypervolume module. Expect this to be very slow.\n",
      "  warnings.warn(\"Falling back to the python version of hypervolume \"\n",
      "/Users/sainia3/opt/anaconda3/envs/tpot2env/lib/python3.10/site-packages/deap/tools/_hypervolume/pyhv.py:34: RuntimeWarning: Falling back to the python version of hypervolume module. Expect this to be very slow.\n",
      "  warnings.warn(\"Falling back to the python version of hypervolume \"\n"
     ]
    },
    {
     "name": "stdout",
     "output_type": "stream",
     "text": [
      "Processing run: 14\n"
     ]
    },
    {
     "name": "stderr",
     "output_type": "stream",
     "text": [
      "/Users/sainia3/opt/anaconda3/envs/tpot2env/lib/python3.10/site-packages/deap/tools/_hypervolume/pyhv.py:34: RuntimeWarning: Falling back to the python version of hypervolume module. Expect this to be very slow.\n",
      "  warnings.warn(\"Falling back to the python version of hypervolume \"\n",
      "/Users/sainia3/opt/anaconda3/envs/tpot2env/lib/python3.10/site-packages/deap/tools/_hypervolume/pyhv.py:34: RuntimeWarning: Falling back to the python version of hypervolume module. Expect this to be very slow.\n",
      "  warnings.warn(\"Falling back to the python version of hypervolume \"\n"
     ]
    },
    {
     "name": "stdout",
     "output_type": "stream",
     "text": [
      "Processing run: 15\n"
     ]
    },
    {
     "name": "stderr",
     "output_type": "stream",
     "text": [
      "/Users/sainia3/opt/anaconda3/envs/tpot2env/lib/python3.10/site-packages/deap/tools/_hypervolume/pyhv.py:34: RuntimeWarning: Falling back to the python version of hypervolume module. Expect this to be very slow.\n",
      "  warnings.warn(\"Falling back to the python version of hypervolume \"\n",
      "/Users/sainia3/opt/anaconda3/envs/tpot2env/lib/python3.10/site-packages/deap/tools/_hypervolume/pyhv.py:34: RuntimeWarning: Falling back to the python version of hypervolume module. Expect this to be very slow.\n",
      "  warnings.warn(\"Falling back to the python version of hypervolume \"\n"
     ]
    },
    {
     "name": "stdout",
     "output_type": "stream",
     "text": [
      "Processing run: 16\n"
     ]
    },
    {
     "name": "stderr",
     "output_type": "stream",
     "text": [
      "/Users/sainia3/opt/anaconda3/envs/tpot2env/lib/python3.10/site-packages/deap/tools/_hypervolume/pyhv.py:34: RuntimeWarning: Falling back to the python version of hypervolume module. Expect this to be very slow.\n",
      "  warnings.warn(\"Falling back to the python version of hypervolume \"\n",
      "/Users/sainia3/opt/anaconda3/envs/tpot2env/lib/python3.10/site-packages/deap/tools/_hypervolume/pyhv.py:34: RuntimeWarning: Falling back to the python version of hypervolume module. Expect this to be very slow.\n",
      "  warnings.warn(\"Falling back to the python version of hypervolume \"\n"
     ]
    },
    {
     "name": "stdout",
     "output_type": "stream",
     "text": [
      "Processing run: 17\n"
     ]
    },
    {
     "name": "stderr",
     "output_type": "stream",
     "text": [
      "/Users/sainia3/opt/anaconda3/envs/tpot2env/lib/python3.10/site-packages/deap/tools/_hypervolume/pyhv.py:34: RuntimeWarning: Falling back to the python version of hypervolume module. Expect this to be very slow.\n",
      "  warnings.warn(\"Falling back to the python version of hypervolume \"\n",
      "/Users/sainia3/opt/anaconda3/envs/tpot2env/lib/python3.10/site-packages/deap/tools/_hypervolume/pyhv.py:34: RuntimeWarning: Falling back to the python version of hypervolume module. Expect this to be very slow.\n",
      "  warnings.warn(\"Falling back to the python version of hypervolume \"\n"
     ]
    },
    {
     "name": "stdout",
     "output_type": "stream",
     "text": [
      "Processing run: 18\n"
     ]
    },
    {
     "name": "stderr",
     "output_type": "stream",
     "text": [
      "/Users/sainia3/opt/anaconda3/envs/tpot2env/lib/python3.10/site-packages/deap/tools/_hypervolume/pyhv.py:34: RuntimeWarning: Falling back to the python version of hypervolume module. Expect this to be very slow.\n",
      "  warnings.warn(\"Falling back to the python version of hypervolume \"\n",
      "/Users/sainia3/opt/anaconda3/envs/tpot2env/lib/python3.10/site-packages/deap/tools/_hypervolume/pyhv.py:34: RuntimeWarning: Falling back to the python version of hypervolume module. Expect this to be very slow.\n",
      "  warnings.warn(\"Falling back to the python version of hypervolume \"\n"
     ]
    },
    {
     "name": "stdout",
     "output_type": "stream",
     "text": [
      "Processing run: 19\n"
     ]
    },
    {
     "name": "stderr",
     "output_type": "stream",
     "text": [
      "/Users/sainia3/opt/anaconda3/envs/tpot2env/lib/python3.10/site-packages/deap/tools/_hypervolume/pyhv.py:34: RuntimeWarning: Falling back to the python version of hypervolume module. Expect this to be very slow.\n",
      "  warnings.warn(\"Falling back to the python version of hypervolume \"\n",
      "/Users/sainia3/opt/anaconda3/envs/tpot2env/lib/python3.10/site-packages/deap/tools/_hypervolume/pyhv.py:34: RuntimeWarning: Falling back to the python version of hypervolume module. Expect this to be very slow.\n",
      "  warnings.warn(\"Falling back to the python version of hypervolume \"\n"
     ]
    },
    {
     "name": "stdout",
     "output_type": "stream",
     "text": [
      "Processing experiment: Deterministic Weights\n",
      "Processing run: 0\n"
     ]
    },
    {
     "name": "stderr",
     "output_type": "stream",
     "text": [
      "/Users/sainia3/opt/anaconda3/envs/tpot2env/lib/python3.10/site-packages/deap/tools/_hypervolume/pyhv.py:34: RuntimeWarning: Falling back to the python version of hypervolume module. Expect this to be very slow.\n",
      "  warnings.warn(\"Falling back to the python version of hypervolume \"\n",
      "/Users/sainia3/opt/anaconda3/envs/tpot2env/lib/python3.10/site-packages/deap/tools/_hypervolume/pyhv.py:34: RuntimeWarning: Falling back to the python version of hypervolume module. Expect this to be very slow.\n",
      "  warnings.warn(\"Falling back to the python version of hypervolume \"\n"
     ]
    },
    {
     "name": "stdout",
     "output_type": "stream",
     "text": [
      "Processing run: 1\n"
     ]
    },
    {
     "name": "stderr",
     "output_type": "stream",
     "text": [
      "/Users/sainia3/opt/anaconda3/envs/tpot2env/lib/python3.10/site-packages/deap/tools/_hypervolume/pyhv.py:34: RuntimeWarning: Falling back to the python version of hypervolume module. Expect this to be very slow.\n",
      "  warnings.warn(\"Falling back to the python version of hypervolume \"\n",
      "/Users/sainia3/opt/anaconda3/envs/tpot2env/lib/python3.10/site-packages/deap/tools/_hypervolume/pyhv.py:34: RuntimeWarning: Falling back to the python version of hypervolume module. Expect this to be very slow.\n",
      "  warnings.warn(\"Falling back to the python version of hypervolume \"\n"
     ]
    },
    {
     "name": "stdout",
     "output_type": "stream",
     "text": [
      "Processing run: 2\n"
     ]
    },
    {
     "name": "stderr",
     "output_type": "stream",
     "text": [
      "/Users/sainia3/opt/anaconda3/envs/tpot2env/lib/python3.10/site-packages/deap/tools/_hypervolume/pyhv.py:34: RuntimeWarning: Falling back to the python version of hypervolume module. Expect this to be very slow.\n",
      "  warnings.warn(\"Falling back to the python version of hypervolume \"\n",
      "/Users/sainia3/opt/anaconda3/envs/tpot2env/lib/python3.10/site-packages/deap/tools/_hypervolume/pyhv.py:34: RuntimeWarning: Falling back to the python version of hypervolume module. Expect this to be very slow.\n",
      "  warnings.warn(\"Falling back to the python version of hypervolume \"\n"
     ]
    },
    {
     "name": "stdout",
     "output_type": "stream",
     "text": [
      "Processing run: 3\n"
     ]
    },
    {
     "name": "stderr",
     "output_type": "stream",
     "text": [
      "/Users/sainia3/opt/anaconda3/envs/tpot2env/lib/python3.10/site-packages/deap/tools/_hypervolume/pyhv.py:34: RuntimeWarning: Falling back to the python version of hypervolume module. Expect this to be very slow.\n",
      "  warnings.warn(\"Falling back to the python version of hypervolume \"\n",
      "/Users/sainia3/opt/anaconda3/envs/tpot2env/lib/python3.10/site-packages/deap/tools/_hypervolume/pyhv.py:34: RuntimeWarning: Falling back to the python version of hypervolume module. Expect this to be very slow.\n",
      "  warnings.warn(\"Falling back to the python version of hypervolume \"\n"
     ]
    },
    {
     "name": "stdout",
     "output_type": "stream",
     "text": [
      "Processing run: 4\n"
     ]
    },
    {
     "name": "stderr",
     "output_type": "stream",
     "text": [
      "/Users/sainia3/opt/anaconda3/envs/tpot2env/lib/python3.10/site-packages/deap/tools/_hypervolume/pyhv.py:34: RuntimeWarning: Falling back to the python version of hypervolume module. Expect this to be very slow.\n",
      "  warnings.warn(\"Falling back to the python version of hypervolume \"\n",
      "/Users/sainia3/opt/anaconda3/envs/tpot2env/lib/python3.10/site-packages/deap/tools/_hypervolume/pyhv.py:34: RuntimeWarning: Falling back to the python version of hypervolume module. Expect this to be very slow.\n",
      "  warnings.warn(\"Falling back to the python version of hypervolume \"\n"
     ]
    },
    {
     "name": "stdout",
     "output_type": "stream",
     "text": [
      "Processing run: 5\n"
     ]
    },
    {
     "name": "stderr",
     "output_type": "stream",
     "text": [
      "/Users/sainia3/opt/anaconda3/envs/tpot2env/lib/python3.10/site-packages/deap/tools/_hypervolume/pyhv.py:34: RuntimeWarning: Falling back to the python version of hypervolume module. Expect this to be very slow.\n",
      "  warnings.warn(\"Falling back to the python version of hypervolume \"\n",
      "/Users/sainia3/opt/anaconda3/envs/tpot2env/lib/python3.10/site-packages/deap/tools/_hypervolume/pyhv.py:34: RuntimeWarning: Falling back to the python version of hypervolume module. Expect this to be very slow.\n",
      "  warnings.warn(\"Falling back to the python version of hypervolume \"\n"
     ]
    },
    {
     "name": "stdout",
     "output_type": "stream",
     "text": [
      "Processing run: 6\n"
     ]
    },
    {
     "name": "stderr",
     "output_type": "stream",
     "text": [
      "/Users/sainia3/opt/anaconda3/envs/tpot2env/lib/python3.10/site-packages/deap/tools/_hypervolume/pyhv.py:34: RuntimeWarning: Falling back to the python version of hypervolume module. Expect this to be very slow.\n",
      "  warnings.warn(\"Falling back to the python version of hypervolume \"\n",
      "/Users/sainia3/opt/anaconda3/envs/tpot2env/lib/python3.10/site-packages/deap/tools/_hypervolume/pyhv.py:34: RuntimeWarning: Falling back to the python version of hypervolume module. Expect this to be very slow.\n",
      "  warnings.warn(\"Falling back to the python version of hypervolume \"\n"
     ]
    },
    {
     "name": "stdout",
     "output_type": "stream",
     "text": [
      "Processing run: 7\n"
     ]
    },
    {
     "name": "stderr",
     "output_type": "stream",
     "text": [
      "/Users/sainia3/opt/anaconda3/envs/tpot2env/lib/python3.10/site-packages/deap/tools/_hypervolume/pyhv.py:34: RuntimeWarning: Falling back to the python version of hypervolume module. Expect this to be very slow.\n",
      "  warnings.warn(\"Falling back to the python version of hypervolume \"\n",
      "/Users/sainia3/opt/anaconda3/envs/tpot2env/lib/python3.10/site-packages/deap/tools/_hypervolume/pyhv.py:34: RuntimeWarning: Falling back to the python version of hypervolume module. Expect this to be very slow.\n",
      "  warnings.warn(\"Falling back to the python version of hypervolume \"\n"
     ]
    },
    {
     "name": "stdout",
     "output_type": "stream",
     "text": [
      "Processing run: 8\n"
     ]
    },
    {
     "name": "stderr",
     "output_type": "stream",
     "text": [
      "/Users/sainia3/opt/anaconda3/envs/tpot2env/lib/python3.10/site-packages/deap/tools/_hypervolume/pyhv.py:34: RuntimeWarning: Falling back to the python version of hypervolume module. Expect this to be very slow.\n",
      "  warnings.warn(\"Falling back to the python version of hypervolume \"\n",
      "/Users/sainia3/opt/anaconda3/envs/tpot2env/lib/python3.10/site-packages/deap/tools/_hypervolume/pyhv.py:34: RuntimeWarning: Falling back to the python version of hypervolume module. Expect this to be very slow.\n",
      "  warnings.warn(\"Falling back to the python version of hypervolume \"\n"
     ]
    },
    {
     "name": "stdout",
     "output_type": "stream",
     "text": [
      "Processing run: 9\n"
     ]
    },
    {
     "name": "stderr",
     "output_type": "stream",
     "text": [
      "/Users/sainia3/opt/anaconda3/envs/tpot2env/lib/python3.10/site-packages/deap/tools/_hypervolume/pyhv.py:34: RuntimeWarning: Falling back to the python version of hypervolume module. Expect this to be very slow.\n",
      "  warnings.warn(\"Falling back to the python version of hypervolume \"\n",
      "/Users/sainia3/opt/anaconda3/envs/tpot2env/lib/python3.10/site-packages/deap/tools/_hypervolume/pyhv.py:34: RuntimeWarning: Falling back to the python version of hypervolume module. Expect this to be very slow.\n",
      "  warnings.warn(\"Falling back to the python version of hypervolume \"\n"
     ]
    },
    {
     "name": "stdout",
     "output_type": "stream",
     "text": [
      "Processing run: 10\n"
     ]
    },
    {
     "name": "stderr",
     "output_type": "stream",
     "text": [
      "/Users/sainia3/opt/anaconda3/envs/tpot2env/lib/python3.10/site-packages/deap/tools/_hypervolume/pyhv.py:34: RuntimeWarning: Falling back to the python version of hypervolume module. Expect this to be very slow.\n",
      "  warnings.warn(\"Falling back to the python version of hypervolume \"\n",
      "/Users/sainia3/opt/anaconda3/envs/tpot2env/lib/python3.10/site-packages/deap/tools/_hypervolume/pyhv.py:34: RuntimeWarning: Falling back to the python version of hypervolume module. Expect this to be very slow.\n",
      "  warnings.warn(\"Falling back to the python version of hypervolume \"\n"
     ]
    },
    {
     "name": "stdout",
     "output_type": "stream",
     "text": [
      "Processing run: 11\n"
     ]
    },
    {
     "name": "stderr",
     "output_type": "stream",
     "text": [
      "/Users/sainia3/opt/anaconda3/envs/tpot2env/lib/python3.10/site-packages/deap/tools/_hypervolume/pyhv.py:34: RuntimeWarning: Falling back to the python version of hypervolume module. Expect this to be very slow.\n",
      "  warnings.warn(\"Falling back to the python version of hypervolume \"\n",
      "/Users/sainia3/opt/anaconda3/envs/tpot2env/lib/python3.10/site-packages/deap/tools/_hypervolume/pyhv.py:34: RuntimeWarning: Falling back to the python version of hypervolume module. Expect this to be very slow.\n",
      "  warnings.warn(\"Falling back to the python version of hypervolume \"\n"
     ]
    },
    {
     "name": "stdout",
     "output_type": "stream",
     "text": [
      "Processing run: 12\n"
     ]
    },
    {
     "name": "stderr",
     "output_type": "stream",
     "text": [
      "/Users/sainia3/opt/anaconda3/envs/tpot2env/lib/python3.10/site-packages/deap/tools/_hypervolume/pyhv.py:34: RuntimeWarning: Falling back to the python version of hypervolume module. Expect this to be very slow.\n",
      "  warnings.warn(\"Falling back to the python version of hypervolume \"\n",
      "/Users/sainia3/opt/anaconda3/envs/tpot2env/lib/python3.10/site-packages/deap/tools/_hypervolume/pyhv.py:34: RuntimeWarning: Falling back to the python version of hypervolume module. Expect this to be very slow.\n",
      "  warnings.warn(\"Falling back to the python version of hypervolume \"\n"
     ]
    },
    {
     "name": "stdout",
     "output_type": "stream",
     "text": [
      "Processing run: 13\n"
     ]
    },
    {
     "name": "stderr",
     "output_type": "stream",
     "text": [
      "/Users/sainia3/opt/anaconda3/envs/tpot2env/lib/python3.10/site-packages/deap/tools/_hypervolume/pyhv.py:34: RuntimeWarning: Falling back to the python version of hypervolume module. Expect this to be very slow.\n",
      "  warnings.warn(\"Falling back to the python version of hypervolume \"\n",
      "/Users/sainia3/opt/anaconda3/envs/tpot2env/lib/python3.10/site-packages/deap/tools/_hypervolume/pyhv.py:34: RuntimeWarning: Falling back to the python version of hypervolume module. Expect this to be very slow.\n",
      "  warnings.warn(\"Falling back to the python version of hypervolume \"\n"
     ]
    },
    {
     "name": "stdout",
     "output_type": "stream",
     "text": [
      "Processing run: 14\n"
     ]
    },
    {
     "name": "stderr",
     "output_type": "stream",
     "text": [
      "/Users/sainia3/opt/anaconda3/envs/tpot2env/lib/python3.10/site-packages/deap/tools/_hypervolume/pyhv.py:34: RuntimeWarning: Falling back to the python version of hypervolume module. Expect this to be very slow.\n",
      "  warnings.warn(\"Falling back to the python version of hypervolume \"\n",
      "/Users/sainia3/opt/anaconda3/envs/tpot2env/lib/python3.10/site-packages/deap/tools/_hypervolume/pyhv.py:34: RuntimeWarning: Falling back to the python version of hypervolume module. Expect this to be very slow.\n",
      "  warnings.warn(\"Falling back to the python version of hypervolume \"\n"
     ]
    },
    {
     "name": "stdout",
     "output_type": "stream",
     "text": [
      "Processing run: 15\n"
     ]
    },
    {
     "name": "stderr",
     "output_type": "stream",
     "text": [
      "/Users/sainia3/opt/anaconda3/envs/tpot2env/lib/python3.10/site-packages/deap/tools/_hypervolume/pyhv.py:34: RuntimeWarning: Falling back to the python version of hypervolume module. Expect this to be very slow.\n",
      "  warnings.warn(\"Falling back to the python version of hypervolume \"\n",
      "/Users/sainia3/opt/anaconda3/envs/tpot2env/lib/python3.10/site-packages/deap/tools/_hypervolume/pyhv.py:34: RuntimeWarning: Falling back to the python version of hypervolume module. Expect this to be very slow.\n",
      "  warnings.warn(\"Falling back to the python version of hypervolume \"\n"
     ]
    },
    {
     "name": "stdout",
     "output_type": "stream",
     "text": [
      "Processing run: 16\n"
     ]
    },
    {
     "name": "stderr",
     "output_type": "stream",
     "text": [
      "/Users/sainia3/opt/anaconda3/envs/tpot2env/lib/python3.10/site-packages/deap/tools/_hypervolume/pyhv.py:34: RuntimeWarning: Falling back to the python version of hypervolume module. Expect this to be very slow.\n",
      "  warnings.warn(\"Falling back to the python version of hypervolume \"\n",
      "/Users/sainia3/opt/anaconda3/envs/tpot2env/lib/python3.10/site-packages/deap/tools/_hypervolume/pyhv.py:34: RuntimeWarning: Falling back to the python version of hypervolume module. Expect this to be very slow.\n",
      "  warnings.warn(\"Falling back to the python version of hypervolume \"\n"
     ]
    },
    {
     "name": "stdout",
     "output_type": "stream",
     "text": [
      "Processing run: 17\n"
     ]
    },
    {
     "name": "stderr",
     "output_type": "stream",
     "text": [
      "/Users/sainia3/opt/anaconda3/envs/tpot2env/lib/python3.10/site-packages/deap/tools/_hypervolume/pyhv.py:34: RuntimeWarning: Falling back to the python version of hypervolume module. Expect this to be very slow.\n",
      "  warnings.warn(\"Falling back to the python version of hypervolume \"\n",
      "/Users/sainia3/opt/anaconda3/envs/tpot2env/lib/python3.10/site-packages/deap/tools/_hypervolume/pyhv.py:34: RuntimeWarning: Falling back to the python version of hypervolume module. Expect this to be very slow.\n",
      "  warnings.warn(\"Falling back to the python version of hypervolume \"\n"
     ]
    },
    {
     "name": "stdout",
     "output_type": "stream",
     "text": [
      "Processing run: 18\n"
     ]
    },
    {
     "name": "stderr",
     "output_type": "stream",
     "text": [
      "/Users/sainia3/opt/anaconda3/envs/tpot2env/lib/python3.10/site-packages/deap/tools/_hypervolume/pyhv.py:34: RuntimeWarning: Falling back to the python version of hypervolume module. Expect this to be very slow.\n",
      "  warnings.warn(\"Falling back to the python version of hypervolume \"\n",
      "/Users/sainia3/opt/anaconda3/envs/tpot2env/lib/python3.10/site-packages/deap/tools/_hypervolume/pyhv.py:34: RuntimeWarning: Falling back to the python version of hypervolume module. Expect this to be very slow.\n",
      "  warnings.warn(\"Falling back to the python version of hypervolume \"\n"
     ]
    },
    {
     "name": "stdout",
     "output_type": "stream",
     "text": [
      "Processing run: 19\n"
     ]
    },
    {
     "name": "stderr",
     "output_type": "stream",
     "text": [
      "/Users/sainia3/opt/anaconda3/envs/tpot2env/lib/python3.10/site-packages/deap/tools/_hypervolume/pyhv.py:34: RuntimeWarning: Falling back to the python version of hypervolume module. Expect this to be very slow.\n",
      "  warnings.warn(\"Falling back to the python version of hypervolume \"\n",
      "/Users/sainia3/opt/anaconda3/envs/tpot2env/lib/python3.10/site-packages/deap/tools/_hypervolume/pyhv.py:34: RuntimeWarning: Falling back to the python version of hypervolume module. Expect this to be very slow.\n",
      "  warnings.warn(\"Falling back to the python version of hypervolume \"\n"
     ]
    },
    {
     "name": "stdout",
     "output_type": "stream",
     "text": [
      "Processing experiment: Evolved Weights\n",
      "Processing run: 0\n"
     ]
    },
    {
     "name": "stderr",
     "output_type": "stream",
     "text": [
      "/Users/sainia3/opt/anaconda3/envs/tpot2env/lib/python3.10/site-packages/deap/tools/_hypervolume/pyhv.py:34: RuntimeWarning: Falling back to the python version of hypervolume module. Expect this to be very slow.\n",
      "  warnings.warn(\"Falling back to the python version of hypervolume \"\n",
      "/Users/sainia3/opt/anaconda3/envs/tpot2env/lib/python3.10/site-packages/deap/tools/_hypervolume/pyhv.py:34: RuntimeWarning: Falling back to the python version of hypervolume module. Expect this to be very slow.\n",
      "  warnings.warn(\"Falling back to the python version of hypervolume \"\n"
     ]
    },
    {
     "name": "stdout",
     "output_type": "stream",
     "text": [
      "Processing run: 1\n"
     ]
    },
    {
     "name": "stderr",
     "output_type": "stream",
     "text": [
      "/Users/sainia3/opt/anaconda3/envs/tpot2env/lib/python3.10/site-packages/deap/tools/_hypervolume/pyhv.py:34: RuntimeWarning: Falling back to the python version of hypervolume module. Expect this to be very slow.\n",
      "  warnings.warn(\"Falling back to the python version of hypervolume \"\n",
      "/Users/sainia3/opt/anaconda3/envs/tpot2env/lib/python3.10/site-packages/deap/tools/_hypervolume/pyhv.py:34: RuntimeWarning: Falling back to the python version of hypervolume module. Expect this to be very slow.\n",
      "  warnings.warn(\"Falling back to the python version of hypervolume \"\n"
     ]
    },
    {
     "name": "stdout",
     "output_type": "stream",
     "text": [
      "Processing run: 2\n"
     ]
    },
    {
     "name": "stderr",
     "output_type": "stream",
     "text": [
      "/Users/sainia3/opt/anaconda3/envs/tpot2env/lib/python3.10/site-packages/deap/tools/_hypervolume/pyhv.py:34: RuntimeWarning: Falling back to the python version of hypervolume module. Expect this to be very slow.\n",
      "  warnings.warn(\"Falling back to the python version of hypervolume \"\n",
      "/Users/sainia3/opt/anaconda3/envs/tpot2env/lib/python3.10/site-packages/deap/tools/_hypervolume/pyhv.py:34: RuntimeWarning: Falling back to the python version of hypervolume module. Expect this to be very slow.\n",
      "  warnings.warn(\"Falling back to the python version of hypervolume \"\n"
     ]
    },
    {
     "name": "stdout",
     "output_type": "stream",
     "text": [
      "Processing run: 3\n"
     ]
    },
    {
     "name": "stderr",
     "output_type": "stream",
     "text": [
      "/Users/sainia3/opt/anaconda3/envs/tpot2env/lib/python3.10/site-packages/deap/tools/_hypervolume/pyhv.py:34: RuntimeWarning: Falling back to the python version of hypervolume module. Expect this to be very slow.\n",
      "  warnings.warn(\"Falling back to the python version of hypervolume \"\n",
      "/Users/sainia3/opt/anaconda3/envs/tpot2env/lib/python3.10/site-packages/deap/tools/_hypervolume/pyhv.py:34: RuntimeWarning: Falling back to the python version of hypervolume module. Expect this to be very slow.\n",
      "  warnings.warn(\"Falling back to the python version of hypervolume \"\n"
     ]
    },
    {
     "name": "stdout",
     "output_type": "stream",
     "text": [
      "Processing run: 4\n"
     ]
    },
    {
     "name": "stderr",
     "output_type": "stream",
     "text": [
      "/Users/sainia3/opt/anaconda3/envs/tpot2env/lib/python3.10/site-packages/deap/tools/_hypervolume/pyhv.py:34: RuntimeWarning: Falling back to the python version of hypervolume module. Expect this to be very slow.\n",
      "  warnings.warn(\"Falling back to the python version of hypervolume \"\n",
      "/Users/sainia3/opt/anaconda3/envs/tpot2env/lib/python3.10/site-packages/deap/tools/_hypervolume/pyhv.py:34: RuntimeWarning: Falling back to the python version of hypervolume module. Expect this to be very slow.\n",
      "  warnings.warn(\"Falling back to the python version of hypervolume \"\n"
     ]
    },
    {
     "name": "stdout",
     "output_type": "stream",
     "text": [
      "Processing run: 5\n"
     ]
    },
    {
     "name": "stderr",
     "output_type": "stream",
     "text": [
      "/Users/sainia3/opt/anaconda3/envs/tpot2env/lib/python3.10/site-packages/deap/tools/_hypervolume/pyhv.py:34: RuntimeWarning: Falling back to the python version of hypervolume module. Expect this to be very slow.\n",
      "  warnings.warn(\"Falling back to the python version of hypervolume \"\n",
      "/Users/sainia3/opt/anaconda3/envs/tpot2env/lib/python3.10/site-packages/deap/tools/_hypervolume/pyhv.py:34: RuntimeWarning: Falling back to the python version of hypervolume module. Expect this to be very slow.\n",
      "  warnings.warn(\"Falling back to the python version of hypervolume \"\n"
     ]
    },
    {
     "name": "stdout",
     "output_type": "stream",
     "text": [
      "Processing run: 6\n"
     ]
    },
    {
     "name": "stderr",
     "output_type": "stream",
     "text": [
      "/Users/sainia3/opt/anaconda3/envs/tpot2env/lib/python3.10/site-packages/deap/tools/_hypervolume/pyhv.py:34: RuntimeWarning: Falling back to the python version of hypervolume module. Expect this to be very slow.\n",
      "  warnings.warn(\"Falling back to the python version of hypervolume \"\n",
      "/Users/sainia3/opt/anaconda3/envs/tpot2env/lib/python3.10/site-packages/deap/tools/_hypervolume/pyhv.py:34: RuntimeWarning: Falling back to the python version of hypervolume module. Expect this to be very slow.\n",
      "  warnings.warn(\"Falling back to the python version of hypervolume \"\n"
     ]
    },
    {
     "name": "stdout",
     "output_type": "stream",
     "text": [
      "Processing run: 7\n"
     ]
    },
    {
     "name": "stderr",
     "output_type": "stream",
     "text": [
      "/Users/sainia3/opt/anaconda3/envs/tpot2env/lib/python3.10/site-packages/deap/tools/_hypervolume/pyhv.py:34: RuntimeWarning: Falling back to the python version of hypervolume module. Expect this to be very slow.\n",
      "  warnings.warn(\"Falling back to the python version of hypervolume \"\n",
      "/Users/sainia3/opt/anaconda3/envs/tpot2env/lib/python3.10/site-packages/deap/tools/_hypervolume/pyhv.py:34: RuntimeWarning: Falling back to the python version of hypervolume module. Expect this to be very slow.\n",
      "  warnings.warn(\"Falling back to the python version of hypervolume \"\n"
     ]
    },
    {
     "name": "stdout",
     "output_type": "stream",
     "text": [
      "Processing run: 8\n"
     ]
    },
    {
     "name": "stderr",
     "output_type": "stream",
     "text": [
      "/Users/sainia3/opt/anaconda3/envs/tpot2env/lib/python3.10/site-packages/deap/tools/_hypervolume/pyhv.py:34: RuntimeWarning: Falling back to the python version of hypervolume module. Expect this to be very slow.\n",
      "  warnings.warn(\"Falling back to the python version of hypervolume \"\n",
      "/Users/sainia3/opt/anaconda3/envs/tpot2env/lib/python3.10/site-packages/deap/tools/_hypervolume/pyhv.py:34: RuntimeWarning: Falling back to the python version of hypervolume module. Expect this to be very slow.\n",
      "  warnings.warn(\"Falling back to the python version of hypervolume \"\n"
     ]
    },
    {
     "name": "stdout",
     "output_type": "stream",
     "text": [
      "Processing run: 9\n"
     ]
    },
    {
     "name": "stderr",
     "output_type": "stream",
     "text": [
      "/Users/sainia3/opt/anaconda3/envs/tpot2env/lib/python3.10/site-packages/deap/tools/_hypervolume/pyhv.py:34: RuntimeWarning: Falling back to the python version of hypervolume module. Expect this to be very slow.\n",
      "  warnings.warn(\"Falling back to the python version of hypervolume \"\n",
      "/Users/sainia3/opt/anaconda3/envs/tpot2env/lib/python3.10/site-packages/deap/tools/_hypervolume/pyhv.py:34: RuntimeWarning: Falling back to the python version of hypervolume module. Expect this to be very slow.\n",
      "  warnings.warn(\"Falling back to the python version of hypervolume \"\n"
     ]
    },
    {
     "name": "stdout",
     "output_type": "stream",
     "text": [
      "Processing run: 10\n"
     ]
    },
    {
     "name": "stderr",
     "output_type": "stream",
     "text": [
      "/Users/sainia3/opt/anaconda3/envs/tpot2env/lib/python3.10/site-packages/deap/tools/_hypervolume/pyhv.py:34: RuntimeWarning: Falling back to the python version of hypervolume module. Expect this to be very slow.\n",
      "  warnings.warn(\"Falling back to the python version of hypervolume \"\n",
      "/Users/sainia3/opt/anaconda3/envs/tpot2env/lib/python3.10/site-packages/deap/tools/_hypervolume/pyhv.py:34: RuntimeWarning: Falling back to the python version of hypervolume module. Expect this to be very slow.\n",
      "  warnings.warn(\"Falling back to the python version of hypervolume \"\n"
     ]
    },
    {
     "name": "stdout",
     "output_type": "stream",
     "text": [
      "Processing run: 11\n"
     ]
    },
    {
     "name": "stderr",
     "output_type": "stream",
     "text": [
      "/Users/sainia3/opt/anaconda3/envs/tpot2env/lib/python3.10/site-packages/deap/tools/_hypervolume/pyhv.py:34: RuntimeWarning: Falling back to the python version of hypervolume module. Expect this to be very slow.\n",
      "  warnings.warn(\"Falling back to the python version of hypervolume \"\n",
      "/Users/sainia3/opt/anaconda3/envs/tpot2env/lib/python3.10/site-packages/deap/tools/_hypervolume/pyhv.py:34: RuntimeWarning: Falling back to the python version of hypervolume module. Expect this to be very slow.\n",
      "  warnings.warn(\"Falling back to the python version of hypervolume \"\n"
     ]
    },
    {
     "name": "stdout",
     "output_type": "stream",
     "text": [
      "Processing run: 12\n"
     ]
    },
    {
     "name": "stderr",
     "output_type": "stream",
     "text": [
      "/Users/sainia3/opt/anaconda3/envs/tpot2env/lib/python3.10/site-packages/deap/tools/_hypervolume/pyhv.py:34: RuntimeWarning: Falling back to the python version of hypervolume module. Expect this to be very slow.\n",
      "  warnings.warn(\"Falling back to the python version of hypervolume \"\n",
      "/Users/sainia3/opt/anaconda3/envs/tpot2env/lib/python3.10/site-packages/deap/tools/_hypervolume/pyhv.py:34: RuntimeWarning: Falling back to the python version of hypervolume module. Expect this to be very slow.\n",
      "  warnings.warn(\"Falling back to the python version of hypervolume \"\n"
     ]
    },
    {
     "name": "stdout",
     "output_type": "stream",
     "text": [
      "Processing run: 13\n"
     ]
    },
    {
     "name": "stderr",
     "output_type": "stream",
     "text": [
      "/Users/sainia3/opt/anaconda3/envs/tpot2env/lib/python3.10/site-packages/deap/tools/_hypervolume/pyhv.py:34: RuntimeWarning: Falling back to the python version of hypervolume module. Expect this to be very slow.\n",
      "  warnings.warn(\"Falling back to the python version of hypervolume \"\n",
      "/Users/sainia3/opt/anaconda3/envs/tpot2env/lib/python3.10/site-packages/deap/tools/_hypervolume/pyhv.py:34: RuntimeWarning: Falling back to the python version of hypervolume module. Expect this to be very slow.\n",
      "  warnings.warn(\"Falling back to the python version of hypervolume \"\n"
     ]
    },
    {
     "name": "stdout",
     "output_type": "stream",
     "text": [
      "Processing run: 14\n"
     ]
    },
    {
     "name": "stderr",
     "output_type": "stream",
     "text": [
      "/Users/sainia3/opt/anaconda3/envs/tpot2env/lib/python3.10/site-packages/deap/tools/_hypervolume/pyhv.py:34: RuntimeWarning: Falling back to the python version of hypervolume module. Expect this to be very slow.\n",
      "  warnings.warn(\"Falling back to the python version of hypervolume \"\n",
      "/Users/sainia3/opt/anaconda3/envs/tpot2env/lib/python3.10/site-packages/deap/tools/_hypervolume/pyhv.py:34: RuntimeWarning: Falling back to the python version of hypervolume module. Expect this to be very slow.\n",
      "  warnings.warn(\"Falling back to the python version of hypervolume \"\n"
     ]
    },
    {
     "name": "stdout",
     "output_type": "stream",
     "text": [
      "Processing run: 15\n"
     ]
    },
    {
     "name": "stderr",
     "output_type": "stream",
     "text": [
      "/Users/sainia3/opt/anaconda3/envs/tpot2env/lib/python3.10/site-packages/deap/tools/_hypervolume/pyhv.py:34: RuntimeWarning: Falling back to the python version of hypervolume module. Expect this to be very slow.\n",
      "  warnings.warn(\"Falling back to the python version of hypervolume \"\n",
      "/Users/sainia3/opt/anaconda3/envs/tpot2env/lib/python3.10/site-packages/deap/tools/_hypervolume/pyhv.py:34: RuntimeWarning: Falling back to the python version of hypervolume module. Expect this to be very slow.\n",
      "  warnings.warn(\"Falling back to the python version of hypervolume \"\n"
     ]
    },
    {
     "name": "stdout",
     "output_type": "stream",
     "text": [
      "Processing run: 16\n"
     ]
    },
    {
     "name": "stderr",
     "output_type": "stream",
     "text": [
      "/Users/sainia3/opt/anaconda3/envs/tpot2env/lib/python3.10/site-packages/deap/tools/_hypervolume/pyhv.py:34: RuntimeWarning: Falling back to the python version of hypervolume module. Expect this to be very slow.\n",
      "  warnings.warn(\"Falling back to the python version of hypervolume \"\n",
      "/Users/sainia3/opt/anaconda3/envs/tpot2env/lib/python3.10/site-packages/deap/tools/_hypervolume/pyhv.py:34: RuntimeWarning: Falling back to the python version of hypervolume module. Expect this to be very slow.\n",
      "  warnings.warn(\"Falling back to the python version of hypervolume \"\n"
     ]
    },
    {
     "name": "stdout",
     "output_type": "stream",
     "text": [
      "Processing run: 17\n"
     ]
    },
    {
     "name": "stderr",
     "output_type": "stream",
     "text": [
      "/Users/sainia3/opt/anaconda3/envs/tpot2env/lib/python3.10/site-packages/deap/tools/_hypervolume/pyhv.py:34: RuntimeWarning: Falling back to the python version of hypervolume module. Expect this to be very slow.\n",
      "  warnings.warn(\"Falling back to the python version of hypervolume \"\n",
      "/Users/sainia3/opt/anaconda3/envs/tpot2env/lib/python3.10/site-packages/deap/tools/_hypervolume/pyhv.py:34: RuntimeWarning: Falling back to the python version of hypervolume module. Expect this to be very slow.\n",
      "  warnings.warn(\"Falling back to the python version of hypervolume \"\n"
     ]
    },
    {
     "name": "stdout",
     "output_type": "stream",
     "text": [
      "Processing run: 18\n"
     ]
    },
    {
     "name": "stderr",
     "output_type": "stream",
     "text": [
      "/Users/sainia3/opt/anaconda3/envs/tpot2env/lib/python3.10/site-packages/deap/tools/_hypervolume/pyhv.py:34: RuntimeWarning: Falling back to the python version of hypervolume module. Expect this to be very slow.\n",
      "  warnings.warn(\"Falling back to the python version of hypervolume \"\n",
      "/Users/sainia3/opt/anaconda3/envs/tpot2env/lib/python3.10/site-packages/deap/tools/_hypervolume/pyhv.py:34: RuntimeWarning: Falling back to the python version of hypervolume module. Expect this to be very slow.\n",
      "  warnings.warn(\"Falling back to the python version of hypervolume \"\n"
     ]
    },
    {
     "name": "stdout",
     "output_type": "stream",
     "text": [
      "Processing run: 19\n"
     ]
    },
    {
     "name": "stderr",
     "output_type": "stream",
     "text": [
      "/Users/sainia3/opt/anaconda3/envs/tpot2env/lib/python3.10/site-packages/deap/tools/_hypervolume/pyhv.py:34: RuntimeWarning: Falling back to the python version of hypervolume module. Expect this to be very slow.\n",
      "  warnings.warn(\"Falling back to the python version of hypervolume \"\n",
      "/Users/sainia3/opt/anaconda3/envs/tpot2env/lib/python3.10/site-packages/deap/tools/_hypervolume/pyhv.py:34: RuntimeWarning: Falling back to the python version of hypervolume module. Expect this to be very slow.\n",
      "  warnings.warn(\"Falling back to the python version of hypervolume \"\n"
     ]
    },
    {
     "name": "stdout",
     "output_type": "stream",
     "text": [
      "Processing task_id: student_math\n",
      "Processing experiment: Equal Weights\n",
      "Processing run: 0\n"
     ]
    },
    {
     "name": "stderr",
     "output_type": "stream",
     "text": [
      "/Users/sainia3/opt/anaconda3/envs/tpot2env/lib/python3.10/site-packages/deap/tools/_hypervolume/pyhv.py:34: RuntimeWarning: Falling back to the python version of hypervolume module. Expect this to be very slow.\n",
      "  warnings.warn(\"Falling back to the python version of hypervolume \"\n",
      "/Users/sainia3/opt/anaconda3/envs/tpot2env/lib/python3.10/site-packages/deap/tools/_hypervolume/pyhv.py:34: RuntimeWarning: Falling back to the python version of hypervolume module. Expect this to be very slow.\n",
      "  warnings.warn(\"Falling back to the python version of hypervolume \"\n"
     ]
    },
    {
     "name": "stdout",
     "output_type": "stream",
     "text": [
      "Processing run: 1\n"
     ]
    },
    {
     "name": "stderr",
     "output_type": "stream",
     "text": [
      "/Users/sainia3/opt/anaconda3/envs/tpot2env/lib/python3.10/site-packages/deap/tools/_hypervolume/pyhv.py:34: RuntimeWarning: Falling back to the python version of hypervolume module. Expect this to be very slow.\n",
      "  warnings.warn(\"Falling back to the python version of hypervolume \"\n",
      "/Users/sainia3/opt/anaconda3/envs/tpot2env/lib/python3.10/site-packages/deap/tools/_hypervolume/pyhv.py:34: RuntimeWarning: Falling back to the python version of hypervolume module. Expect this to be very slow.\n",
      "  warnings.warn(\"Falling back to the python version of hypervolume \"\n"
     ]
    },
    {
     "name": "stdout",
     "output_type": "stream",
     "text": [
      "Processing run: 2\n"
     ]
    },
    {
     "name": "stderr",
     "output_type": "stream",
     "text": [
      "/Users/sainia3/opt/anaconda3/envs/tpot2env/lib/python3.10/site-packages/deap/tools/_hypervolume/pyhv.py:34: RuntimeWarning: Falling back to the python version of hypervolume module. Expect this to be very slow.\n",
      "  warnings.warn(\"Falling back to the python version of hypervolume \"\n",
      "/Users/sainia3/opt/anaconda3/envs/tpot2env/lib/python3.10/site-packages/deap/tools/_hypervolume/pyhv.py:34: RuntimeWarning: Falling back to the python version of hypervolume module. Expect this to be very slow.\n",
      "  warnings.warn(\"Falling back to the python version of hypervolume \"\n"
     ]
    },
    {
     "name": "stdout",
     "output_type": "stream",
     "text": [
      "Processing run: 3\n"
     ]
    },
    {
     "name": "stderr",
     "output_type": "stream",
     "text": [
      "/Users/sainia3/opt/anaconda3/envs/tpot2env/lib/python3.10/site-packages/deap/tools/_hypervolume/pyhv.py:34: RuntimeWarning: Falling back to the python version of hypervolume module. Expect this to be very slow.\n",
      "  warnings.warn(\"Falling back to the python version of hypervolume \"\n",
      "/Users/sainia3/opt/anaconda3/envs/tpot2env/lib/python3.10/site-packages/deap/tools/_hypervolume/pyhv.py:34: RuntimeWarning: Falling back to the python version of hypervolume module. Expect this to be very slow.\n",
      "  warnings.warn(\"Falling back to the python version of hypervolume \"\n"
     ]
    },
    {
     "name": "stdout",
     "output_type": "stream",
     "text": [
      "Processing run: 4\n"
     ]
    },
    {
     "name": "stderr",
     "output_type": "stream",
     "text": [
      "/Users/sainia3/opt/anaconda3/envs/tpot2env/lib/python3.10/site-packages/deap/tools/_hypervolume/pyhv.py:34: RuntimeWarning: Falling back to the python version of hypervolume module. Expect this to be very slow.\n",
      "  warnings.warn(\"Falling back to the python version of hypervolume \"\n",
      "/Users/sainia3/opt/anaconda3/envs/tpot2env/lib/python3.10/site-packages/deap/tools/_hypervolume/pyhv.py:34: RuntimeWarning: Falling back to the python version of hypervolume module. Expect this to be very slow.\n",
      "  warnings.warn(\"Falling back to the python version of hypervolume \"\n"
     ]
    },
    {
     "name": "stdout",
     "output_type": "stream",
     "text": [
      "Processing run: 5\n"
     ]
    },
    {
     "name": "stderr",
     "output_type": "stream",
     "text": [
      "/Users/sainia3/opt/anaconda3/envs/tpot2env/lib/python3.10/site-packages/deap/tools/_hypervolume/pyhv.py:34: RuntimeWarning: Falling back to the python version of hypervolume module. Expect this to be very slow.\n",
      "  warnings.warn(\"Falling back to the python version of hypervolume \"\n",
      "/Users/sainia3/opt/anaconda3/envs/tpot2env/lib/python3.10/site-packages/deap/tools/_hypervolume/pyhv.py:34: RuntimeWarning: Falling back to the python version of hypervolume module. Expect this to be very slow.\n",
      "  warnings.warn(\"Falling back to the python version of hypervolume \"\n"
     ]
    },
    {
     "name": "stdout",
     "output_type": "stream",
     "text": [
      "Processing run: 6\n"
     ]
    },
    {
     "name": "stderr",
     "output_type": "stream",
     "text": [
      "/Users/sainia3/opt/anaconda3/envs/tpot2env/lib/python3.10/site-packages/deap/tools/_hypervolume/pyhv.py:34: RuntimeWarning: Falling back to the python version of hypervolume module. Expect this to be very slow.\n",
      "  warnings.warn(\"Falling back to the python version of hypervolume \"\n",
      "/Users/sainia3/opt/anaconda3/envs/tpot2env/lib/python3.10/site-packages/deap/tools/_hypervolume/pyhv.py:34: RuntimeWarning: Falling back to the python version of hypervolume module. Expect this to be very slow.\n",
      "  warnings.warn(\"Falling back to the python version of hypervolume \"\n"
     ]
    },
    {
     "name": "stdout",
     "output_type": "stream",
     "text": [
      "Processing run: 7\n"
     ]
    },
    {
     "name": "stderr",
     "output_type": "stream",
     "text": [
      "/Users/sainia3/opt/anaconda3/envs/tpot2env/lib/python3.10/site-packages/deap/tools/_hypervolume/pyhv.py:34: RuntimeWarning: Falling back to the python version of hypervolume module. Expect this to be very slow.\n",
      "  warnings.warn(\"Falling back to the python version of hypervolume \"\n",
      "/Users/sainia3/opt/anaconda3/envs/tpot2env/lib/python3.10/site-packages/deap/tools/_hypervolume/pyhv.py:34: RuntimeWarning: Falling back to the python version of hypervolume module. Expect this to be very slow.\n",
      "  warnings.warn(\"Falling back to the python version of hypervolume \"\n"
     ]
    },
    {
     "name": "stdout",
     "output_type": "stream",
     "text": [
      "Processing run: 8\n"
     ]
    },
    {
     "name": "stderr",
     "output_type": "stream",
     "text": [
      "/Users/sainia3/opt/anaconda3/envs/tpot2env/lib/python3.10/site-packages/deap/tools/_hypervolume/pyhv.py:34: RuntimeWarning: Falling back to the python version of hypervolume module. Expect this to be very slow.\n",
      "  warnings.warn(\"Falling back to the python version of hypervolume \"\n",
      "/Users/sainia3/opt/anaconda3/envs/tpot2env/lib/python3.10/site-packages/deap/tools/_hypervolume/pyhv.py:34: RuntimeWarning: Falling back to the python version of hypervolume module. Expect this to be very slow.\n",
      "  warnings.warn(\"Falling back to the python version of hypervolume \"\n"
     ]
    },
    {
     "name": "stdout",
     "output_type": "stream",
     "text": [
      "Processing run: 9\n"
     ]
    },
    {
     "name": "stderr",
     "output_type": "stream",
     "text": [
      "/Users/sainia3/opt/anaconda3/envs/tpot2env/lib/python3.10/site-packages/deap/tools/_hypervolume/pyhv.py:34: RuntimeWarning: Falling back to the python version of hypervolume module. Expect this to be very slow.\n",
      "  warnings.warn(\"Falling back to the python version of hypervolume \"\n",
      "/Users/sainia3/opt/anaconda3/envs/tpot2env/lib/python3.10/site-packages/deap/tools/_hypervolume/pyhv.py:34: RuntimeWarning: Falling back to the python version of hypervolume module. Expect this to be very slow.\n",
      "  warnings.warn(\"Falling back to the python version of hypervolume \"\n"
     ]
    },
    {
     "name": "stdout",
     "output_type": "stream",
     "text": [
      "Processing run: 10\n"
     ]
    },
    {
     "name": "stderr",
     "output_type": "stream",
     "text": [
      "/Users/sainia3/opt/anaconda3/envs/tpot2env/lib/python3.10/site-packages/deap/tools/_hypervolume/pyhv.py:34: RuntimeWarning: Falling back to the python version of hypervolume module. Expect this to be very slow.\n",
      "  warnings.warn(\"Falling back to the python version of hypervolume \"\n",
      "/Users/sainia3/opt/anaconda3/envs/tpot2env/lib/python3.10/site-packages/deap/tools/_hypervolume/pyhv.py:34: RuntimeWarning: Falling back to the python version of hypervolume module. Expect this to be very slow.\n",
      "  warnings.warn(\"Falling back to the python version of hypervolume \"\n"
     ]
    },
    {
     "name": "stdout",
     "output_type": "stream",
     "text": [
      "Processing run: 11\n"
     ]
    },
    {
     "name": "stderr",
     "output_type": "stream",
     "text": [
      "/Users/sainia3/opt/anaconda3/envs/tpot2env/lib/python3.10/site-packages/deap/tools/_hypervolume/pyhv.py:34: RuntimeWarning: Falling back to the python version of hypervolume module. Expect this to be very slow.\n",
      "  warnings.warn(\"Falling back to the python version of hypervolume \"\n",
      "/Users/sainia3/opt/anaconda3/envs/tpot2env/lib/python3.10/site-packages/deap/tools/_hypervolume/pyhv.py:34: RuntimeWarning: Falling back to the python version of hypervolume module. Expect this to be very slow.\n",
      "  warnings.warn(\"Falling back to the python version of hypervolume \"\n"
     ]
    },
    {
     "name": "stdout",
     "output_type": "stream",
     "text": [
      "Processing run: 12\n"
     ]
    },
    {
     "name": "stderr",
     "output_type": "stream",
     "text": [
      "/Users/sainia3/opt/anaconda3/envs/tpot2env/lib/python3.10/site-packages/deap/tools/_hypervolume/pyhv.py:34: RuntimeWarning: Falling back to the python version of hypervolume module. Expect this to be very slow.\n",
      "  warnings.warn(\"Falling back to the python version of hypervolume \"\n",
      "/Users/sainia3/opt/anaconda3/envs/tpot2env/lib/python3.10/site-packages/deap/tools/_hypervolume/pyhv.py:34: RuntimeWarning: Falling back to the python version of hypervolume module. Expect this to be very slow.\n",
      "  warnings.warn(\"Falling back to the python version of hypervolume \"\n"
     ]
    },
    {
     "name": "stdout",
     "output_type": "stream",
     "text": [
      "Processing run: 13\n"
     ]
    },
    {
     "name": "stderr",
     "output_type": "stream",
     "text": [
      "/Users/sainia3/opt/anaconda3/envs/tpot2env/lib/python3.10/site-packages/deap/tools/_hypervolume/pyhv.py:34: RuntimeWarning: Falling back to the python version of hypervolume module. Expect this to be very slow.\n",
      "  warnings.warn(\"Falling back to the python version of hypervolume \"\n",
      "/Users/sainia3/opt/anaconda3/envs/tpot2env/lib/python3.10/site-packages/deap/tools/_hypervolume/pyhv.py:34: RuntimeWarning: Falling back to the python version of hypervolume module. Expect this to be very slow.\n",
      "  warnings.warn(\"Falling back to the python version of hypervolume \"\n"
     ]
    },
    {
     "name": "stdout",
     "output_type": "stream",
     "text": [
      "Processing run: 14\n"
     ]
    },
    {
     "name": "stderr",
     "output_type": "stream",
     "text": [
      "/Users/sainia3/opt/anaconda3/envs/tpot2env/lib/python3.10/site-packages/deap/tools/_hypervolume/pyhv.py:34: RuntimeWarning: Falling back to the python version of hypervolume module. Expect this to be very slow.\n",
      "  warnings.warn(\"Falling back to the python version of hypervolume \"\n",
      "/Users/sainia3/opt/anaconda3/envs/tpot2env/lib/python3.10/site-packages/deap/tools/_hypervolume/pyhv.py:34: RuntimeWarning: Falling back to the python version of hypervolume module. Expect this to be very slow.\n",
      "  warnings.warn(\"Falling back to the python version of hypervolume \"\n"
     ]
    },
    {
     "name": "stdout",
     "output_type": "stream",
     "text": [
      "Processing run: 15\n"
     ]
    },
    {
     "name": "stderr",
     "output_type": "stream",
     "text": [
      "/Users/sainia3/opt/anaconda3/envs/tpot2env/lib/python3.10/site-packages/deap/tools/_hypervolume/pyhv.py:34: RuntimeWarning: Falling back to the python version of hypervolume module. Expect this to be very slow.\n",
      "  warnings.warn(\"Falling back to the python version of hypervolume \"\n",
      "/Users/sainia3/opt/anaconda3/envs/tpot2env/lib/python3.10/site-packages/deap/tools/_hypervolume/pyhv.py:34: RuntimeWarning: Falling back to the python version of hypervolume module. Expect this to be very slow.\n",
      "  warnings.warn(\"Falling back to the python version of hypervolume \"\n"
     ]
    },
    {
     "name": "stdout",
     "output_type": "stream",
     "text": [
      "Processing run: 16\n"
     ]
    },
    {
     "name": "stderr",
     "output_type": "stream",
     "text": [
      "/Users/sainia3/opt/anaconda3/envs/tpot2env/lib/python3.10/site-packages/deap/tools/_hypervolume/pyhv.py:34: RuntimeWarning: Falling back to the python version of hypervolume module. Expect this to be very slow.\n",
      "  warnings.warn(\"Falling back to the python version of hypervolume \"\n",
      "/Users/sainia3/opt/anaconda3/envs/tpot2env/lib/python3.10/site-packages/deap/tools/_hypervolume/pyhv.py:34: RuntimeWarning: Falling back to the python version of hypervolume module. Expect this to be very slow.\n",
      "  warnings.warn(\"Falling back to the python version of hypervolume \"\n"
     ]
    },
    {
     "name": "stdout",
     "output_type": "stream",
     "text": [
      "Processing run: 17\n"
     ]
    },
    {
     "name": "stderr",
     "output_type": "stream",
     "text": [
      "/Users/sainia3/opt/anaconda3/envs/tpot2env/lib/python3.10/site-packages/deap/tools/_hypervolume/pyhv.py:34: RuntimeWarning: Falling back to the python version of hypervolume module. Expect this to be very slow.\n",
      "  warnings.warn(\"Falling back to the python version of hypervolume \"\n",
      "/Users/sainia3/opt/anaconda3/envs/tpot2env/lib/python3.10/site-packages/deap/tools/_hypervolume/pyhv.py:34: RuntimeWarning: Falling back to the python version of hypervolume module. Expect this to be very slow.\n",
      "  warnings.warn(\"Falling back to the python version of hypervolume \"\n"
     ]
    },
    {
     "name": "stdout",
     "output_type": "stream",
     "text": [
      "Processing run: 18\n"
     ]
    },
    {
     "name": "stderr",
     "output_type": "stream",
     "text": [
      "/Users/sainia3/opt/anaconda3/envs/tpot2env/lib/python3.10/site-packages/deap/tools/_hypervolume/pyhv.py:34: RuntimeWarning: Falling back to the python version of hypervolume module. Expect this to be very slow.\n",
      "  warnings.warn(\"Falling back to the python version of hypervolume \"\n",
      "/Users/sainia3/opt/anaconda3/envs/tpot2env/lib/python3.10/site-packages/deap/tools/_hypervolume/pyhv.py:34: RuntimeWarning: Falling back to the python version of hypervolume module. Expect this to be very slow.\n",
      "  warnings.warn(\"Falling back to the python version of hypervolume \"\n"
     ]
    },
    {
     "name": "stdout",
     "output_type": "stream",
     "text": [
      "Processing run: 19\n"
     ]
    },
    {
     "name": "stderr",
     "output_type": "stream",
     "text": [
      "/Users/sainia3/opt/anaconda3/envs/tpot2env/lib/python3.10/site-packages/deap/tools/_hypervolume/pyhv.py:34: RuntimeWarning: Falling back to the python version of hypervolume module. Expect this to be very slow.\n",
      "  warnings.warn(\"Falling back to the python version of hypervolume \"\n",
      "/Users/sainia3/opt/anaconda3/envs/tpot2env/lib/python3.10/site-packages/deap/tools/_hypervolume/pyhv.py:34: RuntimeWarning: Falling back to the python version of hypervolume module. Expect this to be very slow.\n",
      "  warnings.warn(\"Falling back to the python version of hypervolume \"\n"
     ]
    },
    {
     "name": "stdout",
     "output_type": "stream",
     "text": [
      "Processing experiment: Deterministic Weights\n",
      "Processing run: 0\n"
     ]
    },
    {
     "name": "stderr",
     "output_type": "stream",
     "text": [
      "/Users/sainia3/opt/anaconda3/envs/tpot2env/lib/python3.10/site-packages/deap/tools/_hypervolume/pyhv.py:34: RuntimeWarning: Falling back to the python version of hypervolume module. Expect this to be very slow.\n",
      "  warnings.warn(\"Falling back to the python version of hypervolume \"\n",
      "/Users/sainia3/opt/anaconda3/envs/tpot2env/lib/python3.10/site-packages/deap/tools/_hypervolume/pyhv.py:34: RuntimeWarning: Falling back to the python version of hypervolume module. Expect this to be very slow.\n",
      "  warnings.warn(\"Falling back to the python version of hypervolume \"\n"
     ]
    },
    {
     "name": "stdout",
     "output_type": "stream",
     "text": [
      "Processing run: 1\n"
     ]
    },
    {
     "name": "stderr",
     "output_type": "stream",
     "text": [
      "/Users/sainia3/opt/anaconda3/envs/tpot2env/lib/python3.10/site-packages/deap/tools/_hypervolume/pyhv.py:34: RuntimeWarning: Falling back to the python version of hypervolume module. Expect this to be very slow.\n",
      "  warnings.warn(\"Falling back to the python version of hypervolume \"\n",
      "/Users/sainia3/opt/anaconda3/envs/tpot2env/lib/python3.10/site-packages/deap/tools/_hypervolume/pyhv.py:34: RuntimeWarning: Falling back to the python version of hypervolume module. Expect this to be very slow.\n",
      "  warnings.warn(\"Falling back to the python version of hypervolume \"\n"
     ]
    },
    {
     "name": "stdout",
     "output_type": "stream",
     "text": [
      "Processing run: 2\n"
     ]
    },
    {
     "name": "stderr",
     "output_type": "stream",
     "text": [
      "/Users/sainia3/opt/anaconda3/envs/tpot2env/lib/python3.10/site-packages/deap/tools/_hypervolume/pyhv.py:34: RuntimeWarning: Falling back to the python version of hypervolume module. Expect this to be very slow.\n",
      "  warnings.warn(\"Falling back to the python version of hypervolume \"\n",
      "/Users/sainia3/opt/anaconda3/envs/tpot2env/lib/python3.10/site-packages/deap/tools/_hypervolume/pyhv.py:34: RuntimeWarning: Falling back to the python version of hypervolume module. Expect this to be very slow.\n",
      "  warnings.warn(\"Falling back to the python version of hypervolume \"\n"
     ]
    },
    {
     "name": "stdout",
     "output_type": "stream",
     "text": [
      "Processing run: 3\n"
     ]
    },
    {
     "name": "stderr",
     "output_type": "stream",
     "text": [
      "/Users/sainia3/opt/anaconda3/envs/tpot2env/lib/python3.10/site-packages/deap/tools/_hypervolume/pyhv.py:34: RuntimeWarning: Falling back to the python version of hypervolume module. Expect this to be very slow.\n",
      "  warnings.warn(\"Falling back to the python version of hypervolume \"\n",
      "/Users/sainia3/opt/anaconda3/envs/tpot2env/lib/python3.10/site-packages/deap/tools/_hypervolume/pyhv.py:34: RuntimeWarning: Falling back to the python version of hypervolume module. Expect this to be very slow.\n",
      "  warnings.warn(\"Falling back to the python version of hypervolume \"\n"
     ]
    },
    {
     "name": "stdout",
     "output_type": "stream",
     "text": [
      "Processing run: 4\n"
     ]
    },
    {
     "name": "stderr",
     "output_type": "stream",
     "text": [
      "/Users/sainia3/opt/anaconda3/envs/tpot2env/lib/python3.10/site-packages/deap/tools/_hypervolume/pyhv.py:34: RuntimeWarning: Falling back to the python version of hypervolume module. Expect this to be very slow.\n",
      "  warnings.warn(\"Falling back to the python version of hypervolume \"\n",
      "/Users/sainia3/opt/anaconda3/envs/tpot2env/lib/python3.10/site-packages/deap/tools/_hypervolume/pyhv.py:34: RuntimeWarning: Falling back to the python version of hypervolume module. Expect this to be very slow.\n",
      "  warnings.warn(\"Falling back to the python version of hypervolume \"\n"
     ]
    },
    {
     "name": "stdout",
     "output_type": "stream",
     "text": [
      "Processing run: 5\n"
     ]
    },
    {
     "name": "stderr",
     "output_type": "stream",
     "text": [
      "/Users/sainia3/opt/anaconda3/envs/tpot2env/lib/python3.10/site-packages/deap/tools/_hypervolume/pyhv.py:34: RuntimeWarning: Falling back to the python version of hypervolume module. Expect this to be very slow.\n",
      "  warnings.warn(\"Falling back to the python version of hypervolume \"\n",
      "/Users/sainia3/opt/anaconda3/envs/tpot2env/lib/python3.10/site-packages/deap/tools/_hypervolume/pyhv.py:34: RuntimeWarning: Falling back to the python version of hypervolume module. Expect this to be very slow.\n",
      "  warnings.warn(\"Falling back to the python version of hypervolume \"\n"
     ]
    },
    {
     "name": "stdout",
     "output_type": "stream",
     "text": [
      "Processing run: 6\n"
     ]
    },
    {
     "name": "stderr",
     "output_type": "stream",
     "text": [
      "/Users/sainia3/opt/anaconda3/envs/tpot2env/lib/python3.10/site-packages/deap/tools/_hypervolume/pyhv.py:34: RuntimeWarning: Falling back to the python version of hypervolume module. Expect this to be very slow.\n",
      "  warnings.warn(\"Falling back to the python version of hypervolume \"\n",
      "/Users/sainia3/opt/anaconda3/envs/tpot2env/lib/python3.10/site-packages/deap/tools/_hypervolume/pyhv.py:34: RuntimeWarning: Falling back to the python version of hypervolume module. Expect this to be very slow.\n",
      "  warnings.warn(\"Falling back to the python version of hypervolume \"\n"
     ]
    },
    {
     "name": "stdout",
     "output_type": "stream",
     "text": [
      "Processing run: 7\n"
     ]
    },
    {
     "name": "stderr",
     "output_type": "stream",
     "text": [
      "/Users/sainia3/opt/anaconda3/envs/tpot2env/lib/python3.10/site-packages/deap/tools/_hypervolume/pyhv.py:34: RuntimeWarning: Falling back to the python version of hypervolume module. Expect this to be very slow.\n",
      "  warnings.warn(\"Falling back to the python version of hypervolume \"\n",
      "/Users/sainia3/opt/anaconda3/envs/tpot2env/lib/python3.10/site-packages/deap/tools/_hypervolume/pyhv.py:34: RuntimeWarning: Falling back to the python version of hypervolume module. Expect this to be very slow.\n",
      "  warnings.warn(\"Falling back to the python version of hypervolume \"\n"
     ]
    },
    {
     "name": "stdout",
     "output_type": "stream",
     "text": [
      "Processing run: 8\n"
     ]
    },
    {
     "name": "stderr",
     "output_type": "stream",
     "text": [
      "/Users/sainia3/opt/anaconda3/envs/tpot2env/lib/python3.10/site-packages/deap/tools/_hypervolume/pyhv.py:34: RuntimeWarning: Falling back to the python version of hypervolume module. Expect this to be very slow.\n",
      "  warnings.warn(\"Falling back to the python version of hypervolume \"\n",
      "/Users/sainia3/opt/anaconda3/envs/tpot2env/lib/python3.10/site-packages/deap/tools/_hypervolume/pyhv.py:34: RuntimeWarning: Falling back to the python version of hypervolume module. Expect this to be very slow.\n",
      "  warnings.warn(\"Falling back to the python version of hypervolume \"\n"
     ]
    },
    {
     "name": "stdout",
     "output_type": "stream",
     "text": [
      "Processing run: 9\n"
     ]
    },
    {
     "name": "stderr",
     "output_type": "stream",
     "text": [
      "/Users/sainia3/opt/anaconda3/envs/tpot2env/lib/python3.10/site-packages/deap/tools/_hypervolume/pyhv.py:34: RuntimeWarning: Falling back to the python version of hypervolume module. Expect this to be very slow.\n",
      "  warnings.warn(\"Falling back to the python version of hypervolume \"\n",
      "/Users/sainia3/opt/anaconda3/envs/tpot2env/lib/python3.10/site-packages/deap/tools/_hypervolume/pyhv.py:34: RuntimeWarning: Falling back to the python version of hypervolume module. Expect this to be very slow.\n",
      "  warnings.warn(\"Falling back to the python version of hypervolume \"\n"
     ]
    },
    {
     "name": "stdout",
     "output_type": "stream",
     "text": [
      "Processing run: 10\n"
     ]
    },
    {
     "name": "stderr",
     "output_type": "stream",
     "text": [
      "/Users/sainia3/opt/anaconda3/envs/tpot2env/lib/python3.10/site-packages/deap/tools/_hypervolume/pyhv.py:34: RuntimeWarning: Falling back to the python version of hypervolume module. Expect this to be very slow.\n",
      "  warnings.warn(\"Falling back to the python version of hypervolume \"\n",
      "/Users/sainia3/opt/anaconda3/envs/tpot2env/lib/python3.10/site-packages/deap/tools/_hypervolume/pyhv.py:34: RuntimeWarning: Falling back to the python version of hypervolume module. Expect this to be very slow.\n",
      "  warnings.warn(\"Falling back to the python version of hypervolume \"\n"
     ]
    },
    {
     "name": "stdout",
     "output_type": "stream",
     "text": [
      "Processing run: 11\n"
     ]
    },
    {
     "name": "stderr",
     "output_type": "stream",
     "text": [
      "/Users/sainia3/opt/anaconda3/envs/tpot2env/lib/python3.10/site-packages/deap/tools/_hypervolume/pyhv.py:34: RuntimeWarning: Falling back to the python version of hypervolume module. Expect this to be very slow.\n",
      "  warnings.warn(\"Falling back to the python version of hypervolume \"\n",
      "/Users/sainia3/opt/anaconda3/envs/tpot2env/lib/python3.10/site-packages/deap/tools/_hypervolume/pyhv.py:34: RuntimeWarning: Falling back to the python version of hypervolume module. Expect this to be very slow.\n",
      "  warnings.warn(\"Falling back to the python version of hypervolume \"\n"
     ]
    },
    {
     "name": "stdout",
     "output_type": "stream",
     "text": [
      "Processing run: 12\n"
     ]
    },
    {
     "name": "stderr",
     "output_type": "stream",
     "text": [
      "/Users/sainia3/opt/anaconda3/envs/tpot2env/lib/python3.10/site-packages/deap/tools/_hypervolume/pyhv.py:34: RuntimeWarning: Falling back to the python version of hypervolume module. Expect this to be very slow.\n",
      "  warnings.warn(\"Falling back to the python version of hypervolume \"\n",
      "/Users/sainia3/opt/anaconda3/envs/tpot2env/lib/python3.10/site-packages/deap/tools/_hypervolume/pyhv.py:34: RuntimeWarning: Falling back to the python version of hypervolume module. Expect this to be very slow.\n",
      "  warnings.warn(\"Falling back to the python version of hypervolume \"\n"
     ]
    },
    {
     "name": "stdout",
     "output_type": "stream",
     "text": [
      "Processing run: 13\n"
     ]
    },
    {
     "name": "stderr",
     "output_type": "stream",
     "text": [
      "/Users/sainia3/opt/anaconda3/envs/tpot2env/lib/python3.10/site-packages/deap/tools/_hypervolume/pyhv.py:34: RuntimeWarning: Falling back to the python version of hypervolume module. Expect this to be very slow.\n",
      "  warnings.warn(\"Falling back to the python version of hypervolume \"\n",
      "/Users/sainia3/opt/anaconda3/envs/tpot2env/lib/python3.10/site-packages/deap/tools/_hypervolume/pyhv.py:34: RuntimeWarning: Falling back to the python version of hypervolume module. Expect this to be very slow.\n",
      "  warnings.warn(\"Falling back to the python version of hypervolume \"\n"
     ]
    },
    {
     "name": "stdout",
     "output_type": "stream",
     "text": [
      "Processing run: 14\n"
     ]
    },
    {
     "name": "stderr",
     "output_type": "stream",
     "text": [
      "/Users/sainia3/opt/anaconda3/envs/tpot2env/lib/python3.10/site-packages/deap/tools/_hypervolume/pyhv.py:34: RuntimeWarning: Falling back to the python version of hypervolume module. Expect this to be very slow.\n",
      "  warnings.warn(\"Falling back to the python version of hypervolume \"\n",
      "/Users/sainia3/opt/anaconda3/envs/tpot2env/lib/python3.10/site-packages/deap/tools/_hypervolume/pyhv.py:34: RuntimeWarning: Falling back to the python version of hypervolume module. Expect this to be very slow.\n",
      "  warnings.warn(\"Falling back to the python version of hypervolume \"\n"
     ]
    },
    {
     "name": "stdout",
     "output_type": "stream",
     "text": [
      "Processing run: 15\n"
     ]
    },
    {
     "name": "stderr",
     "output_type": "stream",
     "text": [
      "/Users/sainia3/opt/anaconda3/envs/tpot2env/lib/python3.10/site-packages/deap/tools/_hypervolume/pyhv.py:34: RuntimeWarning: Falling back to the python version of hypervolume module. Expect this to be very slow.\n",
      "  warnings.warn(\"Falling back to the python version of hypervolume \"\n",
      "/Users/sainia3/opt/anaconda3/envs/tpot2env/lib/python3.10/site-packages/deap/tools/_hypervolume/pyhv.py:34: RuntimeWarning: Falling back to the python version of hypervolume module. Expect this to be very slow.\n",
      "  warnings.warn(\"Falling back to the python version of hypervolume \"\n"
     ]
    },
    {
     "name": "stdout",
     "output_type": "stream",
     "text": [
      "Processing run: 16\n"
     ]
    },
    {
     "name": "stderr",
     "output_type": "stream",
     "text": [
      "/Users/sainia3/opt/anaconda3/envs/tpot2env/lib/python3.10/site-packages/deap/tools/_hypervolume/pyhv.py:34: RuntimeWarning: Falling back to the python version of hypervolume module. Expect this to be very slow.\n",
      "  warnings.warn(\"Falling back to the python version of hypervolume \"\n",
      "/Users/sainia3/opt/anaconda3/envs/tpot2env/lib/python3.10/site-packages/deap/tools/_hypervolume/pyhv.py:34: RuntimeWarning: Falling back to the python version of hypervolume module. Expect this to be very slow.\n",
      "  warnings.warn(\"Falling back to the python version of hypervolume \"\n"
     ]
    },
    {
     "name": "stdout",
     "output_type": "stream",
     "text": [
      "Processing run: 17\n"
     ]
    },
    {
     "name": "stderr",
     "output_type": "stream",
     "text": [
      "/Users/sainia3/opt/anaconda3/envs/tpot2env/lib/python3.10/site-packages/deap/tools/_hypervolume/pyhv.py:34: RuntimeWarning: Falling back to the python version of hypervolume module. Expect this to be very slow.\n",
      "  warnings.warn(\"Falling back to the python version of hypervolume \"\n",
      "/Users/sainia3/opt/anaconda3/envs/tpot2env/lib/python3.10/site-packages/deap/tools/_hypervolume/pyhv.py:34: RuntimeWarning: Falling back to the python version of hypervolume module. Expect this to be very slow.\n",
      "  warnings.warn(\"Falling back to the python version of hypervolume \"\n"
     ]
    },
    {
     "name": "stdout",
     "output_type": "stream",
     "text": [
      "Processing run: 18\n"
     ]
    },
    {
     "name": "stderr",
     "output_type": "stream",
     "text": [
      "/Users/sainia3/opt/anaconda3/envs/tpot2env/lib/python3.10/site-packages/deap/tools/_hypervolume/pyhv.py:34: RuntimeWarning: Falling back to the python version of hypervolume module. Expect this to be very slow.\n",
      "  warnings.warn(\"Falling back to the python version of hypervolume \"\n",
      "/Users/sainia3/opt/anaconda3/envs/tpot2env/lib/python3.10/site-packages/deap/tools/_hypervolume/pyhv.py:34: RuntimeWarning: Falling back to the python version of hypervolume module. Expect this to be very slow.\n",
      "  warnings.warn(\"Falling back to the python version of hypervolume \"\n"
     ]
    },
    {
     "name": "stdout",
     "output_type": "stream",
     "text": [
      "Processing run: 19\n"
     ]
    },
    {
     "name": "stderr",
     "output_type": "stream",
     "text": [
      "/Users/sainia3/opt/anaconda3/envs/tpot2env/lib/python3.10/site-packages/deap/tools/_hypervolume/pyhv.py:34: RuntimeWarning: Falling back to the python version of hypervolume module. Expect this to be very slow.\n",
      "  warnings.warn(\"Falling back to the python version of hypervolume \"\n",
      "/Users/sainia3/opt/anaconda3/envs/tpot2env/lib/python3.10/site-packages/deap/tools/_hypervolume/pyhv.py:34: RuntimeWarning: Falling back to the python version of hypervolume module. Expect this to be very slow.\n",
      "  warnings.warn(\"Falling back to the python version of hypervolume \"\n"
     ]
    },
    {
     "name": "stdout",
     "output_type": "stream",
     "text": [
      "Processing experiment: Evolved Weights\n",
      "Processing run: 0\n"
     ]
    },
    {
     "name": "stderr",
     "output_type": "stream",
     "text": [
      "/Users/sainia3/opt/anaconda3/envs/tpot2env/lib/python3.10/site-packages/deap/tools/_hypervolume/pyhv.py:34: RuntimeWarning: Falling back to the python version of hypervolume module. Expect this to be very slow.\n",
      "  warnings.warn(\"Falling back to the python version of hypervolume \"\n",
      "/Users/sainia3/opt/anaconda3/envs/tpot2env/lib/python3.10/site-packages/deap/tools/_hypervolume/pyhv.py:34: RuntimeWarning: Falling back to the python version of hypervolume module. Expect this to be very slow.\n",
      "  warnings.warn(\"Falling back to the python version of hypervolume \"\n"
     ]
    },
    {
     "name": "stdout",
     "output_type": "stream",
     "text": [
      "Processing run: 1\n"
     ]
    },
    {
     "name": "stderr",
     "output_type": "stream",
     "text": [
      "/Users/sainia3/opt/anaconda3/envs/tpot2env/lib/python3.10/site-packages/deap/tools/_hypervolume/pyhv.py:34: RuntimeWarning: Falling back to the python version of hypervolume module. Expect this to be very slow.\n",
      "  warnings.warn(\"Falling back to the python version of hypervolume \"\n",
      "/Users/sainia3/opt/anaconda3/envs/tpot2env/lib/python3.10/site-packages/deap/tools/_hypervolume/pyhv.py:34: RuntimeWarning: Falling back to the python version of hypervolume module. Expect this to be very slow.\n",
      "  warnings.warn(\"Falling back to the python version of hypervolume \"\n"
     ]
    },
    {
     "name": "stdout",
     "output_type": "stream",
     "text": [
      "Processing run: 2\n"
     ]
    },
    {
     "name": "stderr",
     "output_type": "stream",
     "text": [
      "/Users/sainia3/opt/anaconda3/envs/tpot2env/lib/python3.10/site-packages/deap/tools/_hypervolume/pyhv.py:34: RuntimeWarning: Falling back to the python version of hypervolume module. Expect this to be very slow.\n",
      "  warnings.warn(\"Falling back to the python version of hypervolume \"\n",
      "/Users/sainia3/opt/anaconda3/envs/tpot2env/lib/python3.10/site-packages/deap/tools/_hypervolume/pyhv.py:34: RuntimeWarning: Falling back to the python version of hypervolume module. Expect this to be very slow.\n",
      "  warnings.warn(\"Falling back to the python version of hypervolume \"\n"
     ]
    },
    {
     "name": "stdout",
     "output_type": "stream",
     "text": [
      "Processing run: 3\n"
     ]
    },
    {
     "name": "stderr",
     "output_type": "stream",
     "text": [
      "/Users/sainia3/opt/anaconda3/envs/tpot2env/lib/python3.10/site-packages/deap/tools/_hypervolume/pyhv.py:34: RuntimeWarning: Falling back to the python version of hypervolume module. Expect this to be very slow.\n",
      "  warnings.warn(\"Falling back to the python version of hypervolume \"\n",
      "/Users/sainia3/opt/anaconda3/envs/tpot2env/lib/python3.10/site-packages/deap/tools/_hypervolume/pyhv.py:34: RuntimeWarning: Falling back to the python version of hypervolume module. Expect this to be very slow.\n",
      "  warnings.warn(\"Falling back to the python version of hypervolume \"\n"
     ]
    },
    {
     "name": "stdout",
     "output_type": "stream",
     "text": [
      "Processing run: 4\n"
     ]
    },
    {
     "name": "stderr",
     "output_type": "stream",
     "text": [
      "/Users/sainia3/opt/anaconda3/envs/tpot2env/lib/python3.10/site-packages/deap/tools/_hypervolume/pyhv.py:34: RuntimeWarning: Falling back to the python version of hypervolume module. Expect this to be very slow.\n",
      "  warnings.warn(\"Falling back to the python version of hypervolume \"\n",
      "/Users/sainia3/opt/anaconda3/envs/tpot2env/lib/python3.10/site-packages/deap/tools/_hypervolume/pyhv.py:34: RuntimeWarning: Falling back to the python version of hypervolume module. Expect this to be very slow.\n",
      "  warnings.warn(\"Falling back to the python version of hypervolume \"\n"
     ]
    },
    {
     "name": "stdout",
     "output_type": "stream",
     "text": [
      "Processing run: 5\n"
     ]
    },
    {
     "name": "stderr",
     "output_type": "stream",
     "text": [
      "/Users/sainia3/opt/anaconda3/envs/tpot2env/lib/python3.10/site-packages/deap/tools/_hypervolume/pyhv.py:34: RuntimeWarning: Falling back to the python version of hypervolume module. Expect this to be very slow.\n",
      "  warnings.warn(\"Falling back to the python version of hypervolume \"\n",
      "/Users/sainia3/opt/anaconda3/envs/tpot2env/lib/python3.10/site-packages/deap/tools/_hypervolume/pyhv.py:34: RuntimeWarning: Falling back to the python version of hypervolume module. Expect this to be very slow.\n",
      "  warnings.warn(\"Falling back to the python version of hypervolume \"\n"
     ]
    },
    {
     "name": "stdout",
     "output_type": "stream",
     "text": [
      "Processing run: 6\n"
     ]
    },
    {
     "name": "stderr",
     "output_type": "stream",
     "text": [
      "/Users/sainia3/opt/anaconda3/envs/tpot2env/lib/python3.10/site-packages/deap/tools/_hypervolume/pyhv.py:34: RuntimeWarning: Falling back to the python version of hypervolume module. Expect this to be very slow.\n",
      "  warnings.warn(\"Falling back to the python version of hypervolume \"\n",
      "/Users/sainia3/opt/anaconda3/envs/tpot2env/lib/python3.10/site-packages/deap/tools/_hypervolume/pyhv.py:34: RuntimeWarning: Falling back to the python version of hypervolume module. Expect this to be very slow.\n",
      "  warnings.warn(\"Falling back to the python version of hypervolume \"\n"
     ]
    },
    {
     "name": "stdout",
     "output_type": "stream",
     "text": [
      "Processing run: 7\n"
     ]
    },
    {
     "name": "stderr",
     "output_type": "stream",
     "text": [
      "/Users/sainia3/opt/anaconda3/envs/tpot2env/lib/python3.10/site-packages/deap/tools/_hypervolume/pyhv.py:34: RuntimeWarning: Falling back to the python version of hypervolume module. Expect this to be very slow.\n",
      "  warnings.warn(\"Falling back to the python version of hypervolume \"\n",
      "/Users/sainia3/opt/anaconda3/envs/tpot2env/lib/python3.10/site-packages/deap/tools/_hypervolume/pyhv.py:34: RuntimeWarning: Falling back to the python version of hypervolume module. Expect this to be very slow.\n",
      "  warnings.warn(\"Falling back to the python version of hypervolume \"\n"
     ]
    },
    {
     "name": "stdout",
     "output_type": "stream",
     "text": [
      "Processing run: 8\n"
     ]
    },
    {
     "name": "stderr",
     "output_type": "stream",
     "text": [
      "/Users/sainia3/opt/anaconda3/envs/tpot2env/lib/python3.10/site-packages/deap/tools/_hypervolume/pyhv.py:34: RuntimeWarning: Falling back to the python version of hypervolume module. Expect this to be very slow.\n",
      "  warnings.warn(\"Falling back to the python version of hypervolume \"\n",
      "/Users/sainia3/opt/anaconda3/envs/tpot2env/lib/python3.10/site-packages/deap/tools/_hypervolume/pyhv.py:34: RuntimeWarning: Falling back to the python version of hypervolume module. Expect this to be very slow.\n",
      "  warnings.warn(\"Falling back to the python version of hypervolume \"\n"
     ]
    },
    {
     "name": "stdout",
     "output_type": "stream",
     "text": [
      "Processing run: 9\n"
     ]
    },
    {
     "name": "stderr",
     "output_type": "stream",
     "text": [
      "/Users/sainia3/opt/anaconda3/envs/tpot2env/lib/python3.10/site-packages/deap/tools/_hypervolume/pyhv.py:34: RuntimeWarning: Falling back to the python version of hypervolume module. Expect this to be very slow.\n",
      "  warnings.warn(\"Falling back to the python version of hypervolume \"\n",
      "/Users/sainia3/opt/anaconda3/envs/tpot2env/lib/python3.10/site-packages/deap/tools/_hypervolume/pyhv.py:34: RuntimeWarning: Falling back to the python version of hypervolume module. Expect this to be very slow.\n",
      "  warnings.warn(\"Falling back to the python version of hypervolume \"\n"
     ]
    },
    {
     "name": "stdout",
     "output_type": "stream",
     "text": [
      "Processing run: 10\n"
     ]
    },
    {
     "name": "stderr",
     "output_type": "stream",
     "text": [
      "/Users/sainia3/opt/anaconda3/envs/tpot2env/lib/python3.10/site-packages/deap/tools/_hypervolume/pyhv.py:34: RuntimeWarning: Falling back to the python version of hypervolume module. Expect this to be very slow.\n",
      "  warnings.warn(\"Falling back to the python version of hypervolume \"\n",
      "/Users/sainia3/opt/anaconda3/envs/tpot2env/lib/python3.10/site-packages/deap/tools/_hypervolume/pyhv.py:34: RuntimeWarning: Falling back to the python version of hypervolume module. Expect this to be very slow.\n",
      "  warnings.warn(\"Falling back to the python version of hypervolume \"\n"
     ]
    },
    {
     "name": "stdout",
     "output_type": "stream",
     "text": [
      "Processing run: 11\n"
     ]
    },
    {
     "name": "stderr",
     "output_type": "stream",
     "text": [
      "/Users/sainia3/opt/anaconda3/envs/tpot2env/lib/python3.10/site-packages/deap/tools/_hypervolume/pyhv.py:34: RuntimeWarning: Falling back to the python version of hypervolume module. Expect this to be very slow.\n",
      "  warnings.warn(\"Falling back to the python version of hypervolume \"\n",
      "/Users/sainia3/opt/anaconda3/envs/tpot2env/lib/python3.10/site-packages/deap/tools/_hypervolume/pyhv.py:34: RuntimeWarning: Falling back to the python version of hypervolume module. Expect this to be very slow.\n",
      "  warnings.warn(\"Falling back to the python version of hypervolume \"\n"
     ]
    },
    {
     "name": "stdout",
     "output_type": "stream",
     "text": [
      "Processing run: 12\n"
     ]
    },
    {
     "name": "stderr",
     "output_type": "stream",
     "text": [
      "/Users/sainia3/opt/anaconda3/envs/tpot2env/lib/python3.10/site-packages/deap/tools/_hypervolume/pyhv.py:34: RuntimeWarning: Falling back to the python version of hypervolume module. Expect this to be very slow.\n",
      "  warnings.warn(\"Falling back to the python version of hypervolume \"\n",
      "/Users/sainia3/opt/anaconda3/envs/tpot2env/lib/python3.10/site-packages/deap/tools/_hypervolume/pyhv.py:34: RuntimeWarning: Falling back to the python version of hypervolume module. Expect this to be very slow.\n",
      "  warnings.warn(\"Falling back to the python version of hypervolume \"\n"
     ]
    },
    {
     "name": "stdout",
     "output_type": "stream",
     "text": [
      "Processing run: 13\n"
     ]
    },
    {
     "name": "stderr",
     "output_type": "stream",
     "text": [
      "/Users/sainia3/opt/anaconda3/envs/tpot2env/lib/python3.10/site-packages/deap/tools/_hypervolume/pyhv.py:34: RuntimeWarning: Falling back to the python version of hypervolume module. Expect this to be very slow.\n",
      "  warnings.warn(\"Falling back to the python version of hypervolume \"\n",
      "/Users/sainia3/opt/anaconda3/envs/tpot2env/lib/python3.10/site-packages/deap/tools/_hypervolume/pyhv.py:34: RuntimeWarning: Falling back to the python version of hypervolume module. Expect this to be very slow.\n",
      "  warnings.warn(\"Falling back to the python version of hypervolume \"\n"
     ]
    },
    {
     "name": "stdout",
     "output_type": "stream",
     "text": [
      "Processing run: 14\n"
     ]
    },
    {
     "name": "stderr",
     "output_type": "stream",
     "text": [
      "/Users/sainia3/opt/anaconda3/envs/tpot2env/lib/python3.10/site-packages/deap/tools/_hypervolume/pyhv.py:34: RuntimeWarning: Falling back to the python version of hypervolume module. Expect this to be very slow.\n",
      "  warnings.warn(\"Falling back to the python version of hypervolume \"\n",
      "/Users/sainia3/opt/anaconda3/envs/tpot2env/lib/python3.10/site-packages/deap/tools/_hypervolume/pyhv.py:34: RuntimeWarning: Falling back to the python version of hypervolume module. Expect this to be very slow.\n",
      "  warnings.warn(\"Falling back to the python version of hypervolume \"\n"
     ]
    },
    {
     "name": "stdout",
     "output_type": "stream",
     "text": [
      "Processing run: 15\n"
     ]
    },
    {
     "name": "stderr",
     "output_type": "stream",
     "text": [
      "/Users/sainia3/opt/anaconda3/envs/tpot2env/lib/python3.10/site-packages/deap/tools/_hypervolume/pyhv.py:34: RuntimeWarning: Falling back to the python version of hypervolume module. Expect this to be very slow.\n",
      "  warnings.warn(\"Falling back to the python version of hypervolume \"\n",
      "/Users/sainia3/opt/anaconda3/envs/tpot2env/lib/python3.10/site-packages/deap/tools/_hypervolume/pyhv.py:34: RuntimeWarning: Falling back to the python version of hypervolume module. Expect this to be very slow.\n",
      "  warnings.warn(\"Falling back to the python version of hypervolume \"\n"
     ]
    },
    {
     "name": "stdout",
     "output_type": "stream",
     "text": [
      "Processing run: 16\n"
     ]
    },
    {
     "name": "stderr",
     "output_type": "stream",
     "text": [
      "/Users/sainia3/opt/anaconda3/envs/tpot2env/lib/python3.10/site-packages/deap/tools/_hypervolume/pyhv.py:34: RuntimeWarning: Falling back to the python version of hypervolume module. Expect this to be very slow.\n",
      "  warnings.warn(\"Falling back to the python version of hypervolume \"\n",
      "/Users/sainia3/opt/anaconda3/envs/tpot2env/lib/python3.10/site-packages/deap/tools/_hypervolume/pyhv.py:34: RuntimeWarning: Falling back to the python version of hypervolume module. Expect this to be very slow.\n",
      "  warnings.warn(\"Falling back to the python version of hypervolume \"\n"
     ]
    },
    {
     "name": "stdout",
     "output_type": "stream",
     "text": [
      "Processing run: 17\n"
     ]
    },
    {
     "name": "stderr",
     "output_type": "stream",
     "text": [
      "/Users/sainia3/opt/anaconda3/envs/tpot2env/lib/python3.10/site-packages/deap/tools/_hypervolume/pyhv.py:34: RuntimeWarning: Falling back to the python version of hypervolume module. Expect this to be very slow.\n",
      "  warnings.warn(\"Falling back to the python version of hypervolume \"\n",
      "/Users/sainia3/opt/anaconda3/envs/tpot2env/lib/python3.10/site-packages/deap/tools/_hypervolume/pyhv.py:34: RuntimeWarning: Falling back to the python version of hypervolume module. Expect this to be very slow.\n",
      "  warnings.warn(\"Falling back to the python version of hypervolume \"\n"
     ]
    },
    {
     "name": "stdout",
     "output_type": "stream",
     "text": [
      "Processing run: 18\n"
     ]
    },
    {
     "name": "stderr",
     "output_type": "stream",
     "text": [
      "/Users/sainia3/opt/anaconda3/envs/tpot2env/lib/python3.10/site-packages/deap/tools/_hypervolume/pyhv.py:34: RuntimeWarning: Falling back to the python version of hypervolume module. Expect this to be very slow.\n",
      "  warnings.warn(\"Falling back to the python version of hypervolume \"\n",
      "/Users/sainia3/opt/anaconda3/envs/tpot2env/lib/python3.10/site-packages/deap/tools/_hypervolume/pyhv.py:34: RuntimeWarning: Falling back to the python version of hypervolume module. Expect this to be very slow.\n",
      "  warnings.warn(\"Falling back to the python version of hypervolume \"\n"
     ]
    },
    {
     "name": "stdout",
     "output_type": "stream",
     "text": [
      "Processing run: 19\n"
     ]
    },
    {
     "name": "stderr",
     "output_type": "stream",
     "text": [
      "/Users/sainia3/opt/anaconda3/envs/tpot2env/lib/python3.10/site-packages/deap/tools/_hypervolume/pyhv.py:34: RuntimeWarning: Falling back to the python version of hypervolume module. Expect this to be very slow.\n",
      "  warnings.warn(\"Falling back to the python version of hypervolume \"\n",
      "/Users/sainia3/opt/anaconda3/envs/tpot2env/lib/python3.10/site-packages/deap/tools/_hypervolume/pyhv.py:34: RuntimeWarning: Falling back to the python version of hypervolume module. Expect this to be very slow.\n",
      "  warnings.warn(\"Falling back to the python version of hypervolume \"\n"
     ]
    },
    {
     "name": "stdout",
     "output_type": "stream",
     "text": [
      "Processing task_id: student_por\n",
      "Processing experiment: Equal Weights\n",
      "Processing run: 0\n"
     ]
    },
    {
     "name": "stderr",
     "output_type": "stream",
     "text": [
      "/Users/sainia3/opt/anaconda3/envs/tpot2env/lib/python3.10/site-packages/deap/tools/_hypervolume/pyhv.py:34: RuntimeWarning: Falling back to the python version of hypervolume module. Expect this to be very slow.\n",
      "  warnings.warn(\"Falling back to the python version of hypervolume \"\n",
      "/Users/sainia3/opt/anaconda3/envs/tpot2env/lib/python3.10/site-packages/deap/tools/_hypervolume/pyhv.py:34: RuntimeWarning: Falling back to the python version of hypervolume module. Expect this to be very slow.\n",
      "  warnings.warn(\"Falling back to the python version of hypervolume \"\n"
     ]
    },
    {
     "name": "stdout",
     "output_type": "stream",
     "text": [
      "Processing run: 1\n"
     ]
    },
    {
     "name": "stderr",
     "output_type": "stream",
     "text": [
      "/Users/sainia3/opt/anaconda3/envs/tpot2env/lib/python3.10/site-packages/deap/tools/_hypervolume/pyhv.py:34: RuntimeWarning: Falling back to the python version of hypervolume module. Expect this to be very slow.\n",
      "  warnings.warn(\"Falling back to the python version of hypervolume \"\n",
      "/Users/sainia3/opt/anaconda3/envs/tpot2env/lib/python3.10/site-packages/deap/tools/_hypervolume/pyhv.py:34: RuntimeWarning: Falling back to the python version of hypervolume module. Expect this to be very slow.\n",
      "  warnings.warn(\"Falling back to the python version of hypervolume \"\n"
     ]
    },
    {
     "name": "stdout",
     "output_type": "stream",
     "text": [
      "Processing run: 2\n"
     ]
    },
    {
     "name": "stderr",
     "output_type": "stream",
     "text": [
      "/Users/sainia3/opt/anaconda3/envs/tpot2env/lib/python3.10/site-packages/deap/tools/_hypervolume/pyhv.py:34: RuntimeWarning: Falling back to the python version of hypervolume module. Expect this to be very slow.\n",
      "  warnings.warn(\"Falling back to the python version of hypervolume \"\n",
      "/Users/sainia3/opt/anaconda3/envs/tpot2env/lib/python3.10/site-packages/deap/tools/_hypervolume/pyhv.py:34: RuntimeWarning: Falling back to the python version of hypervolume module. Expect this to be very slow.\n",
      "  warnings.warn(\"Falling back to the python version of hypervolume \"\n"
     ]
    },
    {
     "name": "stdout",
     "output_type": "stream",
     "text": [
      "Processing run: 3\n"
     ]
    },
    {
     "name": "stderr",
     "output_type": "stream",
     "text": [
      "/Users/sainia3/opt/anaconda3/envs/tpot2env/lib/python3.10/site-packages/deap/tools/_hypervolume/pyhv.py:34: RuntimeWarning: Falling back to the python version of hypervolume module. Expect this to be very slow.\n",
      "  warnings.warn(\"Falling back to the python version of hypervolume \"\n",
      "/Users/sainia3/opt/anaconda3/envs/tpot2env/lib/python3.10/site-packages/deap/tools/_hypervolume/pyhv.py:34: RuntimeWarning: Falling back to the python version of hypervolume module. Expect this to be very slow.\n",
      "  warnings.warn(\"Falling back to the python version of hypervolume \"\n"
     ]
    },
    {
     "name": "stdout",
     "output_type": "stream",
     "text": [
      "Processing run: 4\n"
     ]
    },
    {
     "name": "stderr",
     "output_type": "stream",
     "text": [
      "/Users/sainia3/opt/anaconda3/envs/tpot2env/lib/python3.10/site-packages/deap/tools/_hypervolume/pyhv.py:34: RuntimeWarning: Falling back to the python version of hypervolume module. Expect this to be very slow.\n",
      "  warnings.warn(\"Falling back to the python version of hypervolume \"\n",
      "/Users/sainia3/opt/anaconda3/envs/tpot2env/lib/python3.10/site-packages/deap/tools/_hypervolume/pyhv.py:34: RuntimeWarning: Falling back to the python version of hypervolume module. Expect this to be very slow.\n",
      "  warnings.warn(\"Falling back to the python version of hypervolume \"\n"
     ]
    },
    {
     "name": "stdout",
     "output_type": "stream",
     "text": [
      "Processing run: 5\n"
     ]
    },
    {
     "name": "stderr",
     "output_type": "stream",
     "text": [
      "/Users/sainia3/opt/anaconda3/envs/tpot2env/lib/python3.10/site-packages/deap/tools/_hypervolume/pyhv.py:34: RuntimeWarning: Falling back to the python version of hypervolume module. Expect this to be very slow.\n",
      "  warnings.warn(\"Falling back to the python version of hypervolume \"\n",
      "/Users/sainia3/opt/anaconda3/envs/tpot2env/lib/python3.10/site-packages/deap/tools/_hypervolume/pyhv.py:34: RuntimeWarning: Falling back to the python version of hypervolume module. Expect this to be very slow.\n",
      "  warnings.warn(\"Falling back to the python version of hypervolume \"\n"
     ]
    },
    {
     "name": "stdout",
     "output_type": "stream",
     "text": [
      "Processing run: 6\n"
     ]
    },
    {
     "name": "stderr",
     "output_type": "stream",
     "text": [
      "/Users/sainia3/opt/anaconda3/envs/tpot2env/lib/python3.10/site-packages/deap/tools/_hypervolume/pyhv.py:34: RuntimeWarning: Falling back to the python version of hypervolume module. Expect this to be very slow.\n",
      "  warnings.warn(\"Falling back to the python version of hypervolume \"\n",
      "/Users/sainia3/opt/anaconda3/envs/tpot2env/lib/python3.10/site-packages/deap/tools/_hypervolume/pyhv.py:34: RuntimeWarning: Falling back to the python version of hypervolume module. Expect this to be very slow.\n",
      "  warnings.warn(\"Falling back to the python version of hypervolume \"\n"
     ]
    },
    {
     "name": "stdout",
     "output_type": "stream",
     "text": [
      "Processing run: 7\n"
     ]
    },
    {
     "name": "stderr",
     "output_type": "stream",
     "text": [
      "/Users/sainia3/opt/anaconda3/envs/tpot2env/lib/python3.10/site-packages/deap/tools/_hypervolume/pyhv.py:34: RuntimeWarning: Falling back to the python version of hypervolume module. Expect this to be very slow.\n",
      "  warnings.warn(\"Falling back to the python version of hypervolume \"\n",
      "/Users/sainia3/opt/anaconda3/envs/tpot2env/lib/python3.10/site-packages/deap/tools/_hypervolume/pyhv.py:34: RuntimeWarning: Falling back to the python version of hypervolume module. Expect this to be very slow.\n",
      "  warnings.warn(\"Falling back to the python version of hypervolume \"\n"
     ]
    },
    {
     "name": "stdout",
     "output_type": "stream",
     "text": [
      "Processing run: 8\n"
     ]
    },
    {
     "name": "stderr",
     "output_type": "stream",
     "text": [
      "/Users/sainia3/opt/anaconda3/envs/tpot2env/lib/python3.10/site-packages/deap/tools/_hypervolume/pyhv.py:34: RuntimeWarning: Falling back to the python version of hypervolume module. Expect this to be very slow.\n",
      "  warnings.warn(\"Falling back to the python version of hypervolume \"\n",
      "/Users/sainia3/opt/anaconda3/envs/tpot2env/lib/python3.10/site-packages/deap/tools/_hypervolume/pyhv.py:34: RuntimeWarning: Falling back to the python version of hypervolume module. Expect this to be very slow.\n",
      "  warnings.warn(\"Falling back to the python version of hypervolume \"\n"
     ]
    },
    {
     "name": "stdout",
     "output_type": "stream",
     "text": [
      "Processing run: 9\n"
     ]
    },
    {
     "name": "stderr",
     "output_type": "stream",
     "text": [
      "/Users/sainia3/opt/anaconda3/envs/tpot2env/lib/python3.10/site-packages/deap/tools/_hypervolume/pyhv.py:34: RuntimeWarning: Falling back to the python version of hypervolume module. Expect this to be very slow.\n",
      "  warnings.warn(\"Falling back to the python version of hypervolume \"\n",
      "/Users/sainia3/opt/anaconda3/envs/tpot2env/lib/python3.10/site-packages/deap/tools/_hypervolume/pyhv.py:34: RuntimeWarning: Falling back to the python version of hypervolume module. Expect this to be very slow.\n",
      "  warnings.warn(\"Falling back to the python version of hypervolume \"\n"
     ]
    },
    {
     "name": "stdout",
     "output_type": "stream",
     "text": [
      "Processing run: 10\n"
     ]
    },
    {
     "name": "stderr",
     "output_type": "stream",
     "text": [
      "/Users/sainia3/opt/anaconda3/envs/tpot2env/lib/python3.10/site-packages/deap/tools/_hypervolume/pyhv.py:34: RuntimeWarning: Falling back to the python version of hypervolume module. Expect this to be very slow.\n",
      "  warnings.warn(\"Falling back to the python version of hypervolume \"\n",
      "/Users/sainia3/opt/anaconda3/envs/tpot2env/lib/python3.10/site-packages/deap/tools/_hypervolume/pyhv.py:34: RuntimeWarning: Falling back to the python version of hypervolume module. Expect this to be very slow.\n",
      "  warnings.warn(\"Falling back to the python version of hypervolume \"\n"
     ]
    },
    {
     "name": "stdout",
     "output_type": "stream",
     "text": [
      "Processing run: 11\n"
     ]
    },
    {
     "name": "stderr",
     "output_type": "stream",
     "text": [
      "/Users/sainia3/opt/anaconda3/envs/tpot2env/lib/python3.10/site-packages/deap/tools/_hypervolume/pyhv.py:34: RuntimeWarning: Falling back to the python version of hypervolume module. Expect this to be very slow.\n",
      "  warnings.warn(\"Falling back to the python version of hypervolume \"\n",
      "/Users/sainia3/opt/anaconda3/envs/tpot2env/lib/python3.10/site-packages/deap/tools/_hypervolume/pyhv.py:34: RuntimeWarning: Falling back to the python version of hypervolume module. Expect this to be very slow.\n",
      "  warnings.warn(\"Falling back to the python version of hypervolume \"\n"
     ]
    },
    {
     "name": "stdout",
     "output_type": "stream",
     "text": [
      "Processing run: 12\n"
     ]
    },
    {
     "name": "stderr",
     "output_type": "stream",
     "text": [
      "/Users/sainia3/opt/anaconda3/envs/tpot2env/lib/python3.10/site-packages/deap/tools/_hypervolume/pyhv.py:34: RuntimeWarning: Falling back to the python version of hypervolume module. Expect this to be very slow.\n",
      "  warnings.warn(\"Falling back to the python version of hypervolume \"\n",
      "/Users/sainia3/opt/anaconda3/envs/tpot2env/lib/python3.10/site-packages/deap/tools/_hypervolume/pyhv.py:34: RuntimeWarning: Falling back to the python version of hypervolume module. Expect this to be very slow.\n",
      "  warnings.warn(\"Falling back to the python version of hypervolume \"\n"
     ]
    },
    {
     "name": "stdout",
     "output_type": "stream",
     "text": [
      "Processing run: 13\n"
     ]
    },
    {
     "name": "stderr",
     "output_type": "stream",
     "text": [
      "/Users/sainia3/opt/anaconda3/envs/tpot2env/lib/python3.10/site-packages/deap/tools/_hypervolume/pyhv.py:34: RuntimeWarning: Falling back to the python version of hypervolume module. Expect this to be very slow.\n",
      "  warnings.warn(\"Falling back to the python version of hypervolume \"\n",
      "/Users/sainia3/opt/anaconda3/envs/tpot2env/lib/python3.10/site-packages/deap/tools/_hypervolume/pyhv.py:34: RuntimeWarning: Falling back to the python version of hypervolume module. Expect this to be very slow.\n",
      "  warnings.warn(\"Falling back to the python version of hypervolume \"\n"
     ]
    },
    {
     "name": "stdout",
     "output_type": "stream",
     "text": [
      "Processing run: 14\n"
     ]
    },
    {
     "name": "stderr",
     "output_type": "stream",
     "text": [
      "/Users/sainia3/opt/anaconda3/envs/tpot2env/lib/python3.10/site-packages/deap/tools/_hypervolume/pyhv.py:34: RuntimeWarning: Falling back to the python version of hypervolume module. Expect this to be very slow.\n",
      "  warnings.warn(\"Falling back to the python version of hypervolume \"\n",
      "/Users/sainia3/opt/anaconda3/envs/tpot2env/lib/python3.10/site-packages/deap/tools/_hypervolume/pyhv.py:34: RuntimeWarning: Falling back to the python version of hypervolume module. Expect this to be very slow.\n",
      "  warnings.warn(\"Falling back to the python version of hypervolume \"\n"
     ]
    },
    {
     "name": "stdout",
     "output_type": "stream",
     "text": [
      "Processing run: 15\n"
     ]
    },
    {
     "name": "stderr",
     "output_type": "stream",
     "text": [
      "/Users/sainia3/opt/anaconda3/envs/tpot2env/lib/python3.10/site-packages/deap/tools/_hypervolume/pyhv.py:34: RuntimeWarning: Falling back to the python version of hypervolume module. Expect this to be very slow.\n",
      "  warnings.warn(\"Falling back to the python version of hypervolume \"\n",
      "/Users/sainia3/opt/anaconda3/envs/tpot2env/lib/python3.10/site-packages/deap/tools/_hypervolume/pyhv.py:34: RuntimeWarning: Falling back to the python version of hypervolume module. Expect this to be very slow.\n",
      "  warnings.warn(\"Falling back to the python version of hypervolume \"\n"
     ]
    },
    {
     "name": "stdout",
     "output_type": "stream",
     "text": [
      "Processing run: 16\n"
     ]
    },
    {
     "name": "stderr",
     "output_type": "stream",
     "text": [
      "/Users/sainia3/opt/anaconda3/envs/tpot2env/lib/python3.10/site-packages/deap/tools/_hypervolume/pyhv.py:34: RuntimeWarning: Falling back to the python version of hypervolume module. Expect this to be very slow.\n",
      "  warnings.warn(\"Falling back to the python version of hypervolume \"\n",
      "/Users/sainia3/opt/anaconda3/envs/tpot2env/lib/python3.10/site-packages/deap/tools/_hypervolume/pyhv.py:34: RuntimeWarning: Falling back to the python version of hypervolume module. Expect this to be very slow.\n",
      "  warnings.warn(\"Falling back to the python version of hypervolume \"\n"
     ]
    },
    {
     "name": "stdout",
     "output_type": "stream",
     "text": [
      "Processing run: 17\n"
     ]
    },
    {
     "name": "stderr",
     "output_type": "stream",
     "text": [
      "/Users/sainia3/opt/anaconda3/envs/tpot2env/lib/python3.10/site-packages/deap/tools/_hypervolume/pyhv.py:34: RuntimeWarning: Falling back to the python version of hypervolume module. Expect this to be very slow.\n",
      "  warnings.warn(\"Falling back to the python version of hypervolume \"\n",
      "/Users/sainia3/opt/anaconda3/envs/tpot2env/lib/python3.10/site-packages/deap/tools/_hypervolume/pyhv.py:34: RuntimeWarning: Falling back to the python version of hypervolume module. Expect this to be very slow.\n",
      "  warnings.warn(\"Falling back to the python version of hypervolume \"\n"
     ]
    },
    {
     "name": "stdout",
     "output_type": "stream",
     "text": [
      "Processing run: 18\n"
     ]
    },
    {
     "name": "stderr",
     "output_type": "stream",
     "text": [
      "/Users/sainia3/opt/anaconda3/envs/tpot2env/lib/python3.10/site-packages/deap/tools/_hypervolume/pyhv.py:34: RuntimeWarning: Falling back to the python version of hypervolume module. Expect this to be very slow.\n",
      "  warnings.warn(\"Falling back to the python version of hypervolume \"\n",
      "/Users/sainia3/opt/anaconda3/envs/tpot2env/lib/python3.10/site-packages/deap/tools/_hypervolume/pyhv.py:34: RuntimeWarning: Falling back to the python version of hypervolume module. Expect this to be very slow.\n",
      "  warnings.warn(\"Falling back to the python version of hypervolume \"\n"
     ]
    },
    {
     "name": "stdout",
     "output_type": "stream",
     "text": [
      "Processing run: 19\n"
     ]
    },
    {
     "name": "stderr",
     "output_type": "stream",
     "text": [
      "/Users/sainia3/opt/anaconda3/envs/tpot2env/lib/python3.10/site-packages/deap/tools/_hypervolume/pyhv.py:34: RuntimeWarning: Falling back to the python version of hypervolume module. Expect this to be very slow.\n",
      "  warnings.warn(\"Falling back to the python version of hypervolume \"\n",
      "/Users/sainia3/opt/anaconda3/envs/tpot2env/lib/python3.10/site-packages/deap/tools/_hypervolume/pyhv.py:34: RuntimeWarning: Falling back to the python version of hypervolume module. Expect this to be very slow.\n",
      "  warnings.warn(\"Falling back to the python version of hypervolume \"\n"
     ]
    },
    {
     "name": "stdout",
     "output_type": "stream",
     "text": [
      "Processing experiment: Deterministic Weights\n",
      "Processing run: 0\n"
     ]
    },
    {
     "name": "stderr",
     "output_type": "stream",
     "text": [
      "/Users/sainia3/opt/anaconda3/envs/tpot2env/lib/python3.10/site-packages/deap/tools/_hypervolume/pyhv.py:34: RuntimeWarning: Falling back to the python version of hypervolume module. Expect this to be very slow.\n",
      "  warnings.warn(\"Falling back to the python version of hypervolume \"\n",
      "/Users/sainia3/opt/anaconda3/envs/tpot2env/lib/python3.10/site-packages/deap/tools/_hypervolume/pyhv.py:34: RuntimeWarning: Falling back to the python version of hypervolume module. Expect this to be very slow.\n",
      "  warnings.warn(\"Falling back to the python version of hypervolume \"\n"
     ]
    },
    {
     "name": "stdout",
     "output_type": "stream",
     "text": [
      "Processing run: 1\n"
     ]
    },
    {
     "name": "stderr",
     "output_type": "stream",
     "text": [
      "/Users/sainia3/opt/anaconda3/envs/tpot2env/lib/python3.10/site-packages/deap/tools/_hypervolume/pyhv.py:34: RuntimeWarning: Falling back to the python version of hypervolume module. Expect this to be very slow.\n",
      "  warnings.warn(\"Falling back to the python version of hypervolume \"\n",
      "/Users/sainia3/opt/anaconda3/envs/tpot2env/lib/python3.10/site-packages/deap/tools/_hypervolume/pyhv.py:34: RuntimeWarning: Falling back to the python version of hypervolume module. Expect this to be very slow.\n",
      "  warnings.warn(\"Falling back to the python version of hypervolume \"\n"
     ]
    },
    {
     "name": "stdout",
     "output_type": "stream",
     "text": [
      "Processing run: 2\n"
     ]
    },
    {
     "name": "stderr",
     "output_type": "stream",
     "text": [
      "/Users/sainia3/opt/anaconda3/envs/tpot2env/lib/python3.10/site-packages/deap/tools/_hypervolume/pyhv.py:34: RuntimeWarning: Falling back to the python version of hypervolume module. Expect this to be very slow.\n",
      "  warnings.warn(\"Falling back to the python version of hypervolume \"\n",
      "/Users/sainia3/opt/anaconda3/envs/tpot2env/lib/python3.10/site-packages/deap/tools/_hypervolume/pyhv.py:34: RuntimeWarning: Falling back to the python version of hypervolume module. Expect this to be very slow.\n",
      "  warnings.warn(\"Falling back to the python version of hypervolume \"\n"
     ]
    },
    {
     "name": "stdout",
     "output_type": "stream",
     "text": [
      "Processing run: 3\n"
     ]
    },
    {
     "name": "stderr",
     "output_type": "stream",
     "text": [
      "/Users/sainia3/opt/anaconda3/envs/tpot2env/lib/python3.10/site-packages/deap/tools/_hypervolume/pyhv.py:34: RuntimeWarning: Falling back to the python version of hypervolume module. Expect this to be very slow.\n",
      "  warnings.warn(\"Falling back to the python version of hypervolume \"\n",
      "/Users/sainia3/opt/anaconda3/envs/tpot2env/lib/python3.10/site-packages/deap/tools/_hypervolume/pyhv.py:34: RuntimeWarning: Falling back to the python version of hypervolume module. Expect this to be very slow.\n",
      "  warnings.warn(\"Falling back to the python version of hypervolume \"\n"
     ]
    },
    {
     "name": "stdout",
     "output_type": "stream",
     "text": [
      "Processing run: 4\n"
     ]
    },
    {
     "name": "stderr",
     "output_type": "stream",
     "text": [
      "/Users/sainia3/opt/anaconda3/envs/tpot2env/lib/python3.10/site-packages/deap/tools/_hypervolume/pyhv.py:34: RuntimeWarning: Falling back to the python version of hypervolume module. Expect this to be very slow.\n",
      "  warnings.warn(\"Falling back to the python version of hypervolume \"\n",
      "/Users/sainia3/opt/anaconda3/envs/tpot2env/lib/python3.10/site-packages/deap/tools/_hypervolume/pyhv.py:34: RuntimeWarning: Falling back to the python version of hypervolume module. Expect this to be very slow.\n",
      "  warnings.warn(\"Falling back to the python version of hypervolume \"\n"
     ]
    },
    {
     "name": "stdout",
     "output_type": "stream",
     "text": [
      "Processing run: 5\n"
     ]
    },
    {
     "name": "stderr",
     "output_type": "stream",
     "text": [
      "/Users/sainia3/opt/anaconda3/envs/tpot2env/lib/python3.10/site-packages/deap/tools/_hypervolume/pyhv.py:34: RuntimeWarning: Falling back to the python version of hypervolume module. Expect this to be very slow.\n",
      "  warnings.warn(\"Falling back to the python version of hypervolume \"\n",
      "/Users/sainia3/opt/anaconda3/envs/tpot2env/lib/python3.10/site-packages/deap/tools/_hypervolume/pyhv.py:34: RuntimeWarning: Falling back to the python version of hypervolume module. Expect this to be very slow.\n",
      "  warnings.warn(\"Falling back to the python version of hypervolume \"\n"
     ]
    },
    {
     "name": "stdout",
     "output_type": "stream",
     "text": [
      "Processing run: 6\n"
     ]
    },
    {
     "name": "stderr",
     "output_type": "stream",
     "text": [
      "/Users/sainia3/opt/anaconda3/envs/tpot2env/lib/python3.10/site-packages/deap/tools/_hypervolume/pyhv.py:34: RuntimeWarning: Falling back to the python version of hypervolume module. Expect this to be very slow.\n",
      "  warnings.warn(\"Falling back to the python version of hypervolume \"\n",
      "/Users/sainia3/opt/anaconda3/envs/tpot2env/lib/python3.10/site-packages/deap/tools/_hypervolume/pyhv.py:34: RuntimeWarning: Falling back to the python version of hypervolume module. Expect this to be very slow.\n",
      "  warnings.warn(\"Falling back to the python version of hypervolume \"\n"
     ]
    },
    {
     "name": "stdout",
     "output_type": "stream",
     "text": [
      "Processing run: 7\n"
     ]
    },
    {
     "name": "stderr",
     "output_type": "stream",
     "text": [
      "/Users/sainia3/opt/anaconda3/envs/tpot2env/lib/python3.10/site-packages/deap/tools/_hypervolume/pyhv.py:34: RuntimeWarning: Falling back to the python version of hypervolume module. Expect this to be very slow.\n",
      "  warnings.warn(\"Falling back to the python version of hypervolume \"\n",
      "/Users/sainia3/opt/anaconda3/envs/tpot2env/lib/python3.10/site-packages/deap/tools/_hypervolume/pyhv.py:34: RuntimeWarning: Falling back to the python version of hypervolume module. Expect this to be very slow.\n",
      "  warnings.warn(\"Falling back to the python version of hypervolume \"\n"
     ]
    },
    {
     "name": "stdout",
     "output_type": "stream",
     "text": [
      "Processing run: 8\n"
     ]
    },
    {
     "name": "stderr",
     "output_type": "stream",
     "text": [
      "/Users/sainia3/opt/anaconda3/envs/tpot2env/lib/python3.10/site-packages/deap/tools/_hypervolume/pyhv.py:34: RuntimeWarning: Falling back to the python version of hypervolume module. Expect this to be very slow.\n",
      "  warnings.warn(\"Falling back to the python version of hypervolume \"\n",
      "/Users/sainia3/opt/anaconda3/envs/tpot2env/lib/python3.10/site-packages/deap/tools/_hypervolume/pyhv.py:34: RuntimeWarning: Falling back to the python version of hypervolume module. Expect this to be very slow.\n",
      "  warnings.warn(\"Falling back to the python version of hypervolume \"\n"
     ]
    },
    {
     "name": "stdout",
     "output_type": "stream",
     "text": [
      "Processing run: 9\n"
     ]
    },
    {
     "name": "stderr",
     "output_type": "stream",
     "text": [
      "/Users/sainia3/opt/anaconda3/envs/tpot2env/lib/python3.10/site-packages/deap/tools/_hypervolume/pyhv.py:34: RuntimeWarning: Falling back to the python version of hypervolume module. Expect this to be very slow.\n",
      "  warnings.warn(\"Falling back to the python version of hypervolume \"\n",
      "/Users/sainia3/opt/anaconda3/envs/tpot2env/lib/python3.10/site-packages/deap/tools/_hypervolume/pyhv.py:34: RuntimeWarning: Falling back to the python version of hypervolume module. Expect this to be very slow.\n",
      "  warnings.warn(\"Falling back to the python version of hypervolume \"\n"
     ]
    },
    {
     "name": "stdout",
     "output_type": "stream",
     "text": [
      "Processing run: 10\n"
     ]
    },
    {
     "name": "stderr",
     "output_type": "stream",
     "text": [
      "/Users/sainia3/opt/anaconda3/envs/tpot2env/lib/python3.10/site-packages/deap/tools/_hypervolume/pyhv.py:34: RuntimeWarning: Falling back to the python version of hypervolume module. Expect this to be very slow.\n",
      "  warnings.warn(\"Falling back to the python version of hypervolume \"\n",
      "/Users/sainia3/opt/anaconda3/envs/tpot2env/lib/python3.10/site-packages/deap/tools/_hypervolume/pyhv.py:34: RuntimeWarning: Falling back to the python version of hypervolume module. Expect this to be very slow.\n",
      "  warnings.warn(\"Falling back to the python version of hypervolume \"\n"
     ]
    },
    {
     "name": "stdout",
     "output_type": "stream",
     "text": [
      "Processing run: 11\n"
     ]
    },
    {
     "name": "stderr",
     "output_type": "stream",
     "text": [
      "/Users/sainia3/opt/anaconda3/envs/tpot2env/lib/python3.10/site-packages/deap/tools/_hypervolume/pyhv.py:34: RuntimeWarning: Falling back to the python version of hypervolume module. Expect this to be very slow.\n",
      "  warnings.warn(\"Falling back to the python version of hypervolume \"\n",
      "/Users/sainia3/opt/anaconda3/envs/tpot2env/lib/python3.10/site-packages/deap/tools/_hypervolume/pyhv.py:34: RuntimeWarning: Falling back to the python version of hypervolume module. Expect this to be very slow.\n",
      "  warnings.warn(\"Falling back to the python version of hypervolume \"\n"
     ]
    },
    {
     "name": "stdout",
     "output_type": "stream",
     "text": [
      "Processing run: 12\n"
     ]
    },
    {
     "name": "stderr",
     "output_type": "stream",
     "text": [
      "/Users/sainia3/opt/anaconda3/envs/tpot2env/lib/python3.10/site-packages/deap/tools/_hypervolume/pyhv.py:34: RuntimeWarning: Falling back to the python version of hypervolume module. Expect this to be very slow.\n",
      "  warnings.warn(\"Falling back to the python version of hypervolume \"\n",
      "/Users/sainia3/opt/anaconda3/envs/tpot2env/lib/python3.10/site-packages/deap/tools/_hypervolume/pyhv.py:34: RuntimeWarning: Falling back to the python version of hypervolume module. Expect this to be very slow.\n",
      "  warnings.warn(\"Falling back to the python version of hypervolume \"\n"
     ]
    },
    {
     "name": "stdout",
     "output_type": "stream",
     "text": [
      "Processing run: 13\n"
     ]
    },
    {
     "name": "stderr",
     "output_type": "stream",
     "text": [
      "/Users/sainia3/opt/anaconda3/envs/tpot2env/lib/python3.10/site-packages/deap/tools/_hypervolume/pyhv.py:34: RuntimeWarning: Falling back to the python version of hypervolume module. Expect this to be very slow.\n",
      "  warnings.warn(\"Falling back to the python version of hypervolume \"\n",
      "/Users/sainia3/opt/anaconda3/envs/tpot2env/lib/python3.10/site-packages/deap/tools/_hypervolume/pyhv.py:34: RuntimeWarning: Falling back to the python version of hypervolume module. Expect this to be very slow.\n",
      "  warnings.warn(\"Falling back to the python version of hypervolume \"\n"
     ]
    },
    {
     "name": "stdout",
     "output_type": "stream",
     "text": [
      "Processing run: 14\n"
     ]
    },
    {
     "name": "stderr",
     "output_type": "stream",
     "text": [
      "/Users/sainia3/opt/anaconda3/envs/tpot2env/lib/python3.10/site-packages/deap/tools/_hypervolume/pyhv.py:34: RuntimeWarning: Falling back to the python version of hypervolume module. Expect this to be very slow.\n",
      "  warnings.warn(\"Falling back to the python version of hypervolume \"\n",
      "/Users/sainia3/opt/anaconda3/envs/tpot2env/lib/python3.10/site-packages/deap/tools/_hypervolume/pyhv.py:34: RuntimeWarning: Falling back to the python version of hypervolume module. Expect this to be very slow.\n",
      "  warnings.warn(\"Falling back to the python version of hypervolume \"\n"
     ]
    },
    {
     "name": "stdout",
     "output_type": "stream",
     "text": [
      "Processing run: 15\n"
     ]
    },
    {
     "name": "stderr",
     "output_type": "stream",
     "text": [
      "/Users/sainia3/opt/anaconda3/envs/tpot2env/lib/python3.10/site-packages/deap/tools/_hypervolume/pyhv.py:34: RuntimeWarning: Falling back to the python version of hypervolume module. Expect this to be very slow.\n",
      "  warnings.warn(\"Falling back to the python version of hypervolume \"\n",
      "/Users/sainia3/opt/anaconda3/envs/tpot2env/lib/python3.10/site-packages/deap/tools/_hypervolume/pyhv.py:34: RuntimeWarning: Falling back to the python version of hypervolume module. Expect this to be very slow.\n",
      "  warnings.warn(\"Falling back to the python version of hypervolume \"\n"
     ]
    },
    {
     "name": "stdout",
     "output_type": "stream",
     "text": [
      "Processing run: 16\n"
     ]
    },
    {
     "name": "stderr",
     "output_type": "stream",
     "text": [
      "/Users/sainia3/opt/anaconda3/envs/tpot2env/lib/python3.10/site-packages/deap/tools/_hypervolume/pyhv.py:34: RuntimeWarning: Falling back to the python version of hypervolume module. Expect this to be very slow.\n",
      "  warnings.warn(\"Falling back to the python version of hypervolume \"\n",
      "/Users/sainia3/opt/anaconda3/envs/tpot2env/lib/python3.10/site-packages/deap/tools/_hypervolume/pyhv.py:34: RuntimeWarning: Falling back to the python version of hypervolume module. Expect this to be very slow.\n",
      "  warnings.warn(\"Falling back to the python version of hypervolume \"\n"
     ]
    },
    {
     "name": "stdout",
     "output_type": "stream",
     "text": [
      "Processing run: 17\n"
     ]
    },
    {
     "name": "stderr",
     "output_type": "stream",
     "text": [
      "/Users/sainia3/opt/anaconda3/envs/tpot2env/lib/python3.10/site-packages/deap/tools/_hypervolume/pyhv.py:34: RuntimeWarning: Falling back to the python version of hypervolume module. Expect this to be very slow.\n",
      "  warnings.warn(\"Falling back to the python version of hypervolume \"\n",
      "/Users/sainia3/opt/anaconda3/envs/tpot2env/lib/python3.10/site-packages/deap/tools/_hypervolume/pyhv.py:34: RuntimeWarning: Falling back to the python version of hypervolume module. Expect this to be very slow.\n",
      "  warnings.warn(\"Falling back to the python version of hypervolume \"\n"
     ]
    },
    {
     "name": "stdout",
     "output_type": "stream",
     "text": [
      "Processing run: 18\n"
     ]
    },
    {
     "name": "stderr",
     "output_type": "stream",
     "text": [
      "/Users/sainia3/opt/anaconda3/envs/tpot2env/lib/python3.10/site-packages/deap/tools/_hypervolume/pyhv.py:34: RuntimeWarning: Falling back to the python version of hypervolume module. Expect this to be very slow.\n",
      "  warnings.warn(\"Falling back to the python version of hypervolume \"\n",
      "/Users/sainia3/opt/anaconda3/envs/tpot2env/lib/python3.10/site-packages/deap/tools/_hypervolume/pyhv.py:34: RuntimeWarning: Falling back to the python version of hypervolume module. Expect this to be very slow.\n",
      "  warnings.warn(\"Falling back to the python version of hypervolume \"\n"
     ]
    },
    {
     "name": "stdout",
     "output_type": "stream",
     "text": [
      "Processing run: 19\n"
     ]
    },
    {
     "name": "stderr",
     "output_type": "stream",
     "text": [
      "/Users/sainia3/opt/anaconda3/envs/tpot2env/lib/python3.10/site-packages/deap/tools/_hypervolume/pyhv.py:34: RuntimeWarning: Falling back to the python version of hypervolume module. Expect this to be very slow.\n",
      "  warnings.warn(\"Falling back to the python version of hypervolume \"\n",
      "/Users/sainia3/opt/anaconda3/envs/tpot2env/lib/python3.10/site-packages/deap/tools/_hypervolume/pyhv.py:34: RuntimeWarning: Falling back to the python version of hypervolume module. Expect this to be very slow.\n",
      "  warnings.warn(\"Falling back to the python version of hypervolume \"\n"
     ]
    },
    {
     "name": "stdout",
     "output_type": "stream",
     "text": [
      "Processing experiment: Evolved Weights\n",
      "Processing run: 0\n"
     ]
    },
    {
     "name": "stderr",
     "output_type": "stream",
     "text": [
      "/Users/sainia3/opt/anaconda3/envs/tpot2env/lib/python3.10/site-packages/deap/tools/_hypervolume/pyhv.py:34: RuntimeWarning: Falling back to the python version of hypervolume module. Expect this to be very slow.\n",
      "  warnings.warn(\"Falling back to the python version of hypervolume \"\n",
      "/Users/sainia3/opt/anaconda3/envs/tpot2env/lib/python3.10/site-packages/deap/tools/_hypervolume/pyhv.py:34: RuntimeWarning: Falling back to the python version of hypervolume module. Expect this to be very slow.\n",
      "  warnings.warn(\"Falling back to the python version of hypervolume \"\n"
     ]
    },
    {
     "name": "stdout",
     "output_type": "stream",
     "text": [
      "Processing run: 1\n"
     ]
    },
    {
     "name": "stderr",
     "output_type": "stream",
     "text": [
      "/Users/sainia3/opt/anaconda3/envs/tpot2env/lib/python3.10/site-packages/deap/tools/_hypervolume/pyhv.py:34: RuntimeWarning: Falling back to the python version of hypervolume module. Expect this to be very slow.\n",
      "  warnings.warn(\"Falling back to the python version of hypervolume \"\n",
      "/Users/sainia3/opt/anaconda3/envs/tpot2env/lib/python3.10/site-packages/deap/tools/_hypervolume/pyhv.py:34: RuntimeWarning: Falling back to the python version of hypervolume module. Expect this to be very slow.\n",
      "  warnings.warn(\"Falling back to the python version of hypervolume \"\n"
     ]
    },
    {
     "name": "stdout",
     "output_type": "stream",
     "text": [
      "Processing run: 2\n"
     ]
    },
    {
     "name": "stderr",
     "output_type": "stream",
     "text": [
      "/Users/sainia3/opt/anaconda3/envs/tpot2env/lib/python3.10/site-packages/deap/tools/_hypervolume/pyhv.py:34: RuntimeWarning: Falling back to the python version of hypervolume module. Expect this to be very slow.\n",
      "  warnings.warn(\"Falling back to the python version of hypervolume \"\n",
      "/Users/sainia3/opt/anaconda3/envs/tpot2env/lib/python3.10/site-packages/deap/tools/_hypervolume/pyhv.py:34: RuntimeWarning: Falling back to the python version of hypervolume module. Expect this to be very slow.\n",
      "  warnings.warn(\"Falling back to the python version of hypervolume \"\n"
     ]
    },
    {
     "name": "stdout",
     "output_type": "stream",
     "text": [
      "Processing run: 3\n"
     ]
    },
    {
     "name": "stderr",
     "output_type": "stream",
     "text": [
      "/Users/sainia3/opt/anaconda3/envs/tpot2env/lib/python3.10/site-packages/deap/tools/_hypervolume/pyhv.py:34: RuntimeWarning: Falling back to the python version of hypervolume module. Expect this to be very slow.\n",
      "  warnings.warn(\"Falling back to the python version of hypervolume \"\n",
      "/Users/sainia3/opt/anaconda3/envs/tpot2env/lib/python3.10/site-packages/deap/tools/_hypervolume/pyhv.py:34: RuntimeWarning: Falling back to the python version of hypervolume module. Expect this to be very slow.\n",
      "  warnings.warn(\"Falling back to the python version of hypervolume \"\n"
     ]
    },
    {
     "name": "stdout",
     "output_type": "stream",
     "text": [
      "Processing run: 4\n"
     ]
    },
    {
     "name": "stderr",
     "output_type": "stream",
     "text": [
      "/Users/sainia3/opt/anaconda3/envs/tpot2env/lib/python3.10/site-packages/deap/tools/_hypervolume/pyhv.py:34: RuntimeWarning: Falling back to the python version of hypervolume module. Expect this to be very slow.\n",
      "  warnings.warn(\"Falling back to the python version of hypervolume \"\n",
      "/Users/sainia3/opt/anaconda3/envs/tpot2env/lib/python3.10/site-packages/deap/tools/_hypervolume/pyhv.py:34: RuntimeWarning: Falling back to the python version of hypervolume module. Expect this to be very slow.\n",
      "  warnings.warn(\"Falling back to the python version of hypervolume \"\n"
     ]
    },
    {
     "name": "stdout",
     "output_type": "stream",
     "text": [
      "Processing run: 5\n"
     ]
    },
    {
     "name": "stderr",
     "output_type": "stream",
     "text": [
      "/Users/sainia3/opt/anaconda3/envs/tpot2env/lib/python3.10/site-packages/deap/tools/_hypervolume/pyhv.py:34: RuntimeWarning: Falling back to the python version of hypervolume module. Expect this to be very slow.\n",
      "  warnings.warn(\"Falling back to the python version of hypervolume \"\n",
      "/Users/sainia3/opt/anaconda3/envs/tpot2env/lib/python3.10/site-packages/deap/tools/_hypervolume/pyhv.py:34: RuntimeWarning: Falling back to the python version of hypervolume module. Expect this to be very slow.\n",
      "  warnings.warn(\"Falling back to the python version of hypervolume \"\n"
     ]
    },
    {
     "name": "stdout",
     "output_type": "stream",
     "text": [
      "Processing run: 6\n"
     ]
    },
    {
     "name": "stderr",
     "output_type": "stream",
     "text": [
      "/Users/sainia3/opt/anaconda3/envs/tpot2env/lib/python3.10/site-packages/deap/tools/_hypervolume/pyhv.py:34: RuntimeWarning: Falling back to the python version of hypervolume module. Expect this to be very slow.\n",
      "  warnings.warn(\"Falling back to the python version of hypervolume \"\n",
      "/Users/sainia3/opt/anaconda3/envs/tpot2env/lib/python3.10/site-packages/deap/tools/_hypervolume/pyhv.py:34: RuntimeWarning: Falling back to the python version of hypervolume module. Expect this to be very slow.\n",
      "  warnings.warn(\"Falling back to the python version of hypervolume \"\n"
     ]
    },
    {
     "name": "stdout",
     "output_type": "stream",
     "text": [
      "Processing run: 7\n"
     ]
    },
    {
     "name": "stderr",
     "output_type": "stream",
     "text": [
      "/Users/sainia3/opt/anaconda3/envs/tpot2env/lib/python3.10/site-packages/deap/tools/_hypervolume/pyhv.py:34: RuntimeWarning: Falling back to the python version of hypervolume module. Expect this to be very slow.\n",
      "  warnings.warn(\"Falling back to the python version of hypervolume \"\n",
      "/Users/sainia3/opt/anaconda3/envs/tpot2env/lib/python3.10/site-packages/deap/tools/_hypervolume/pyhv.py:34: RuntimeWarning: Falling back to the python version of hypervolume module. Expect this to be very slow.\n",
      "  warnings.warn(\"Falling back to the python version of hypervolume \"\n"
     ]
    },
    {
     "name": "stdout",
     "output_type": "stream",
     "text": [
      "Processing run: 8\n"
     ]
    },
    {
     "name": "stderr",
     "output_type": "stream",
     "text": [
      "/Users/sainia3/opt/anaconda3/envs/tpot2env/lib/python3.10/site-packages/deap/tools/_hypervolume/pyhv.py:34: RuntimeWarning: Falling back to the python version of hypervolume module. Expect this to be very slow.\n",
      "  warnings.warn(\"Falling back to the python version of hypervolume \"\n",
      "/Users/sainia3/opt/anaconda3/envs/tpot2env/lib/python3.10/site-packages/deap/tools/_hypervolume/pyhv.py:34: RuntimeWarning: Falling back to the python version of hypervolume module. Expect this to be very slow.\n",
      "  warnings.warn(\"Falling back to the python version of hypervolume \"\n"
     ]
    },
    {
     "name": "stdout",
     "output_type": "stream",
     "text": [
      "Processing run: 9\n"
     ]
    },
    {
     "name": "stderr",
     "output_type": "stream",
     "text": [
      "/Users/sainia3/opt/anaconda3/envs/tpot2env/lib/python3.10/site-packages/deap/tools/_hypervolume/pyhv.py:34: RuntimeWarning: Falling back to the python version of hypervolume module. Expect this to be very slow.\n",
      "  warnings.warn(\"Falling back to the python version of hypervolume \"\n",
      "/Users/sainia3/opt/anaconda3/envs/tpot2env/lib/python3.10/site-packages/deap/tools/_hypervolume/pyhv.py:34: RuntimeWarning: Falling back to the python version of hypervolume module. Expect this to be very slow.\n",
      "  warnings.warn(\"Falling back to the python version of hypervolume \"\n"
     ]
    },
    {
     "name": "stdout",
     "output_type": "stream",
     "text": [
      "Processing run: 10\n"
     ]
    },
    {
     "name": "stderr",
     "output_type": "stream",
     "text": [
      "/Users/sainia3/opt/anaconda3/envs/tpot2env/lib/python3.10/site-packages/deap/tools/_hypervolume/pyhv.py:34: RuntimeWarning: Falling back to the python version of hypervolume module. Expect this to be very slow.\n",
      "  warnings.warn(\"Falling back to the python version of hypervolume \"\n",
      "/Users/sainia3/opt/anaconda3/envs/tpot2env/lib/python3.10/site-packages/deap/tools/_hypervolume/pyhv.py:34: RuntimeWarning: Falling back to the python version of hypervolume module. Expect this to be very slow.\n",
      "  warnings.warn(\"Falling back to the python version of hypervolume \"\n"
     ]
    },
    {
     "name": "stdout",
     "output_type": "stream",
     "text": [
      "Processing run: 11\n"
     ]
    },
    {
     "name": "stderr",
     "output_type": "stream",
     "text": [
      "/Users/sainia3/opt/anaconda3/envs/tpot2env/lib/python3.10/site-packages/deap/tools/_hypervolume/pyhv.py:34: RuntimeWarning: Falling back to the python version of hypervolume module. Expect this to be very slow.\n",
      "  warnings.warn(\"Falling back to the python version of hypervolume \"\n",
      "/Users/sainia3/opt/anaconda3/envs/tpot2env/lib/python3.10/site-packages/deap/tools/_hypervolume/pyhv.py:34: RuntimeWarning: Falling back to the python version of hypervolume module. Expect this to be very slow.\n",
      "  warnings.warn(\"Falling back to the python version of hypervolume \"\n"
     ]
    },
    {
     "name": "stdout",
     "output_type": "stream",
     "text": [
      "Processing run: 12\n"
     ]
    },
    {
     "name": "stderr",
     "output_type": "stream",
     "text": [
      "/Users/sainia3/opt/anaconda3/envs/tpot2env/lib/python3.10/site-packages/deap/tools/_hypervolume/pyhv.py:34: RuntimeWarning: Falling back to the python version of hypervolume module. Expect this to be very slow.\n",
      "  warnings.warn(\"Falling back to the python version of hypervolume \"\n",
      "/Users/sainia3/opt/anaconda3/envs/tpot2env/lib/python3.10/site-packages/deap/tools/_hypervolume/pyhv.py:34: RuntimeWarning: Falling back to the python version of hypervolume module. Expect this to be very slow.\n",
      "  warnings.warn(\"Falling back to the python version of hypervolume \"\n"
     ]
    },
    {
     "name": "stdout",
     "output_type": "stream",
     "text": [
      "Processing run: 13\n"
     ]
    },
    {
     "name": "stderr",
     "output_type": "stream",
     "text": [
      "/Users/sainia3/opt/anaconda3/envs/tpot2env/lib/python3.10/site-packages/deap/tools/_hypervolume/pyhv.py:34: RuntimeWarning: Falling back to the python version of hypervolume module. Expect this to be very slow.\n",
      "  warnings.warn(\"Falling back to the python version of hypervolume \"\n",
      "/Users/sainia3/opt/anaconda3/envs/tpot2env/lib/python3.10/site-packages/deap/tools/_hypervolume/pyhv.py:34: RuntimeWarning: Falling back to the python version of hypervolume module. Expect this to be very slow.\n",
      "  warnings.warn(\"Falling back to the python version of hypervolume \"\n"
     ]
    },
    {
     "name": "stdout",
     "output_type": "stream",
     "text": [
      "Processing run: 14\n"
     ]
    },
    {
     "name": "stderr",
     "output_type": "stream",
     "text": [
      "/Users/sainia3/opt/anaconda3/envs/tpot2env/lib/python3.10/site-packages/deap/tools/_hypervolume/pyhv.py:34: RuntimeWarning: Falling back to the python version of hypervolume module. Expect this to be very slow.\n",
      "  warnings.warn(\"Falling back to the python version of hypervolume \"\n",
      "/Users/sainia3/opt/anaconda3/envs/tpot2env/lib/python3.10/site-packages/deap/tools/_hypervolume/pyhv.py:34: RuntimeWarning: Falling back to the python version of hypervolume module. Expect this to be very slow.\n",
      "  warnings.warn(\"Falling back to the python version of hypervolume \"\n"
     ]
    },
    {
     "name": "stdout",
     "output_type": "stream",
     "text": [
      "Processing run: 15\n"
     ]
    },
    {
     "name": "stderr",
     "output_type": "stream",
     "text": [
      "/Users/sainia3/opt/anaconda3/envs/tpot2env/lib/python3.10/site-packages/deap/tools/_hypervolume/pyhv.py:34: RuntimeWarning: Falling back to the python version of hypervolume module. Expect this to be very slow.\n",
      "  warnings.warn(\"Falling back to the python version of hypervolume \"\n",
      "/Users/sainia3/opt/anaconda3/envs/tpot2env/lib/python3.10/site-packages/deap/tools/_hypervolume/pyhv.py:34: RuntimeWarning: Falling back to the python version of hypervolume module. Expect this to be very slow.\n",
      "  warnings.warn(\"Falling back to the python version of hypervolume \"\n"
     ]
    },
    {
     "name": "stdout",
     "output_type": "stream",
     "text": [
      "Processing run: 16\n"
     ]
    },
    {
     "name": "stderr",
     "output_type": "stream",
     "text": [
      "/Users/sainia3/opt/anaconda3/envs/tpot2env/lib/python3.10/site-packages/deap/tools/_hypervolume/pyhv.py:34: RuntimeWarning: Falling back to the python version of hypervolume module. Expect this to be very slow.\n",
      "  warnings.warn(\"Falling back to the python version of hypervolume \"\n",
      "/Users/sainia3/opt/anaconda3/envs/tpot2env/lib/python3.10/site-packages/deap/tools/_hypervolume/pyhv.py:34: RuntimeWarning: Falling back to the python version of hypervolume module. Expect this to be very slow.\n",
      "  warnings.warn(\"Falling back to the python version of hypervolume \"\n"
     ]
    },
    {
     "name": "stdout",
     "output_type": "stream",
     "text": [
      "Processing run: 17\n"
     ]
    },
    {
     "name": "stderr",
     "output_type": "stream",
     "text": [
      "/Users/sainia3/opt/anaconda3/envs/tpot2env/lib/python3.10/site-packages/deap/tools/_hypervolume/pyhv.py:34: RuntimeWarning: Falling back to the python version of hypervolume module. Expect this to be very slow.\n",
      "  warnings.warn(\"Falling back to the python version of hypervolume \"\n",
      "/Users/sainia3/opt/anaconda3/envs/tpot2env/lib/python3.10/site-packages/deap/tools/_hypervolume/pyhv.py:34: RuntimeWarning: Falling back to the python version of hypervolume module. Expect this to be very slow.\n",
      "  warnings.warn(\"Falling back to the python version of hypervolume \"\n"
     ]
    },
    {
     "name": "stdout",
     "output_type": "stream",
     "text": [
      "Processing run: 18\n"
     ]
    },
    {
     "name": "stderr",
     "output_type": "stream",
     "text": [
      "/Users/sainia3/opt/anaconda3/envs/tpot2env/lib/python3.10/site-packages/deap/tools/_hypervolume/pyhv.py:34: RuntimeWarning: Falling back to the python version of hypervolume module. Expect this to be very slow.\n",
      "  warnings.warn(\"Falling back to the python version of hypervolume \"\n",
      "/Users/sainia3/opt/anaconda3/envs/tpot2env/lib/python3.10/site-packages/deap/tools/_hypervolume/pyhv.py:34: RuntimeWarning: Falling back to the python version of hypervolume module. Expect this to be very slow.\n",
      "  warnings.warn(\"Falling back to the python version of hypervolume \"\n"
     ]
    },
    {
     "name": "stdout",
     "output_type": "stream",
     "text": [
      "Processing run: 19\n"
     ]
    },
    {
     "name": "stderr",
     "output_type": "stream",
     "text": [
      "/Users/sainia3/opt/anaconda3/envs/tpot2env/lib/python3.10/site-packages/deap/tools/_hypervolume/pyhv.py:34: RuntimeWarning: Falling back to the python version of hypervolume module. Expect this to be very slow.\n",
      "  warnings.warn(\"Falling back to the python version of hypervolume \"\n"
     ]
    },
    {
     "name": "stdout",
     "output_type": "stream",
     "text": [
      "Processing task_id: creditg\n",
      "Processing experiment: Equal Weights\n",
      "Processing run: 0\n"
     ]
    },
    {
     "name": "stderr",
     "output_type": "stream",
     "text": [
      "/Users/sainia3/opt/anaconda3/envs/tpot2env/lib/python3.10/site-packages/deap/tools/_hypervolume/pyhv.py:34: RuntimeWarning: Falling back to the python version of hypervolume module. Expect this to be very slow.\n",
      "  warnings.warn(\"Falling back to the python version of hypervolume \"\n"
     ]
    },
    {
     "ename": "FileNotFoundError",
     "evalue": "[Errno 2] No such file or directory: 'analysis/results12/RandomForestClassifier/creditg_0_Equal Weights/scores.pkl'",
     "output_type": "error",
     "traceback": [
      "\u001b[0;31m---------------------------------------------------------------------------\u001b[0m",
      "\u001b[0;31mFileNotFoundError\u001b[0m                         Traceback (most recent call last)",
      "Cell \u001b[0;32mIn[16], line 81\u001b[0m\n\u001b[1;32m     79\u001b[0m \u001b[38;5;28;01mfor\u001b[39;00m task_id \u001b[38;5;129;01min\u001b[39;00m task_ids:\n\u001b[1;32m     80\u001b[0m     \u001b[38;5;28mprint\u001b[39m(\u001b[38;5;124m'\u001b[39m\u001b[38;5;124mProcessing task_id:\u001b[39m\u001b[38;5;124m'\u001b[39m, task_id)\n\u001b[0;32m---> 81\u001b[0m     \u001b[43msave_hv_results\u001b[49m\u001b[43m(\u001b[49m\u001b[38;5;124;43mf\u001b[39;49m\u001b[38;5;124;43m'\u001b[39;49m\u001b[38;5;132;43;01m{\u001b[39;49;00m\u001b[43mresults_folder\u001b[49m\u001b[38;5;132;43;01m}\u001b[39;49;00m\u001b[38;5;124;43m/\u001b[39;49m\u001b[38;5;132;43;01m{\u001b[39;49;00m\u001b[43mfiles_dir\u001b[49m\u001b[43m[\u001b[49m\u001b[38;5;241;43m0\u001b[39;49m\u001b[43m]\u001b[49m\u001b[38;5;132;43;01m}\u001b[39;49;00m\u001b[38;5;124;43m'\u001b[39;49m\u001b[43m,\u001b[49m\u001b[43m \u001b[49m\u001b[43mhv_folder\u001b[49m\u001b[43m,\u001b[49m\u001b[43m \u001b[49m\u001b[43mtask_id\u001b[49m\u001b[43m,\u001b[49m\u001b[43m \u001b[49m\u001b[43mexperiments1\u001b[49m\u001b[43m,\u001b[49m\u001b[43mobjective_functions\u001b[49m\u001b[43m,\u001b[49m\u001b[43m \u001b[49m\u001b[38;5;241;43m20\u001b[39;49m\u001b[43m)\u001b[49m\n",
      "Cell \u001b[0;32mIn[16], line 31\u001b[0m, in \u001b[0;36msave_hv_results\u001b[0;34m(base_result_folder, hv_folder, taskid, experiments, objectives, runs)\u001b[0m\n\u001b[1;32m     28\u001b[0m y_vals \u001b[38;5;241m=\u001b[39m [] \u001b[38;5;66;03m# fnr, etc.\u001b[39;00m\n\u001b[1;32m     30\u001b[0m results_file \u001b[38;5;241m=\u001b[39m \u001b[38;5;124mf\u001b[39m\u001b[38;5;124m\"\u001b[39m\u001b[38;5;132;01m{\u001b[39;00msave_folder\u001b[38;5;132;01m}\u001b[39;00m\u001b[38;5;124m/scores.pkl\u001b[39m\u001b[38;5;124m\"\u001b[39m\n\u001b[0;32m---> 31\u001b[0m \u001b[38;5;28;01mwith\u001b[39;00m \u001b[38;5;28;43mopen\u001b[39;49m\u001b[43m(\u001b[49m\u001b[43mresults_file\u001b[49m\u001b[43m,\u001b[49m\u001b[38;5;124;43m'\u001b[39;49m\u001b[38;5;124;43mrb\u001b[39;49m\u001b[38;5;124;43m'\u001b[39;49m\u001b[43m)\u001b[49m \u001b[38;5;28;01mas\u001b[39;00m file:\n\u001b[1;32m     32\u001b[0m     this_df \u001b[38;5;241m=\u001b[39m pd\u001b[38;5;241m.\u001b[39mread_pickle(file)\n\u001b[1;32m     34\u001b[0m \u001b[38;5;66;03m# Each run has 5000 individuals, and therefore will have one hv for validation set and one for test set\u001b[39;00m\n\u001b[1;32m     35\u001b[0m \u001b[38;5;66;03m# based on pareto-front derived from these 1000 individuals\u001b[39;00m\n",
      "File \u001b[0;32m~/opt/anaconda3/envs/tpot2env/lib/python3.10/site-packages/IPython/core/interactiveshell.py:324\u001b[0m, in \u001b[0;36m_modified_open\u001b[0;34m(file, *args, **kwargs)\u001b[0m\n\u001b[1;32m    317\u001b[0m \u001b[38;5;28;01mif\u001b[39;00m file \u001b[38;5;129;01min\u001b[39;00m {\u001b[38;5;241m0\u001b[39m, \u001b[38;5;241m1\u001b[39m, \u001b[38;5;241m2\u001b[39m}:\n\u001b[1;32m    318\u001b[0m     \u001b[38;5;28;01mraise\u001b[39;00m \u001b[38;5;167;01mValueError\u001b[39;00m(\n\u001b[1;32m    319\u001b[0m         \u001b[38;5;124mf\u001b[39m\u001b[38;5;124m\"\u001b[39m\u001b[38;5;124mIPython won\u001b[39m\u001b[38;5;124m'\u001b[39m\u001b[38;5;124mt let you open fd=\u001b[39m\u001b[38;5;132;01m{\u001b[39;00mfile\u001b[38;5;132;01m}\u001b[39;00m\u001b[38;5;124m by default \u001b[39m\u001b[38;5;124m\"\u001b[39m\n\u001b[1;32m    320\u001b[0m         \u001b[38;5;124m\"\u001b[39m\u001b[38;5;124mas it is likely to crash IPython. If you know what you are doing, \u001b[39m\u001b[38;5;124m\"\u001b[39m\n\u001b[1;32m    321\u001b[0m         \u001b[38;5;124m\"\u001b[39m\u001b[38;5;124myou can use builtins\u001b[39m\u001b[38;5;124m'\u001b[39m\u001b[38;5;124m open.\u001b[39m\u001b[38;5;124m\"\u001b[39m\n\u001b[1;32m    322\u001b[0m     )\n\u001b[0;32m--> 324\u001b[0m \u001b[38;5;28;01mreturn\u001b[39;00m \u001b[43mio_open\u001b[49m\u001b[43m(\u001b[49m\u001b[43mfile\u001b[49m\u001b[43m,\u001b[49m\u001b[43m \u001b[49m\u001b[38;5;241;43m*\u001b[39;49m\u001b[43margs\u001b[49m\u001b[43m,\u001b[49m\u001b[43m \u001b[49m\u001b[38;5;241;43m*\u001b[39;49m\u001b[38;5;241;43m*\u001b[39;49m\u001b[43mkwargs\u001b[49m\u001b[43m)\u001b[49m\n",
      "\u001b[0;31mFileNotFoundError\u001b[0m: [Errno 2] No such file or directory: 'analysis/results12/RandomForestClassifier/creditg_0_Equal Weights/scores.pkl'"
     ]
    }
   ],
   "source": [
    "# Hypervolume of pareto front for different datasets\n",
    "import numpy as np\n",
    "import pandas as pd\n",
    "from deap.tools._hypervolume import pyhv\n",
    "\n",
    "# Need to optimize this code\n",
    "def save_hv_results(base_result_folder, hv_folder, taskid, experiments, objectives, runs):\n",
    "    assert os.path.isdir(hv_folder), f\"Folder to save HV values does not exist: {hv_folder}\"\n",
    "\n",
    "    hv_df = pd.DataFrame(columns = ['hv', 'dataset', 'exp', 'num_pts', 'avg_pred_perf', 'avg_fair_perf']) # results on training data\n",
    "    hv_test_df = pd.DataFrame(columns = ['hv', 'dataset', 'exp', 'num_pts', 'avg_pred_perf', 'avg_fair_perf']) # results on test data\n",
    "\n",
    "    for exp in experiments:\n",
    "        print(\"Processing experiment:\", exp)\n",
    "        for rep in range(runs):\n",
    "            print(\"Processing run:\", rep)\n",
    "        \n",
    "            save_folder = f\"{base_result_folder}/{taskid}_{rep}_{exp}\"\n",
    "            # If hv_values file exist, take the values from there.\n",
    "            if os.path.exists(f\"{save_folder}/hv_values.pkl\"):\n",
    "                with open(f\"{save_folder}/hv_values.pkl\",'rb') as file:\n",
    "                    hv_file = pd.read_pickle(file)\n",
    "                hv_df.loc[len(hv_df.index)] = {'hv' : hv_file['train_hv']['hv'], 'dataset' : taskid, 'exp' : exp, 'num_pts':hv_file['train_hv']['num_pts'],'avg_pred_perf':hv_file['train_hv']['avg_pred_perf'], 'avg_fair_perf':hv_file['train_hv']['avg_fair_perf']}\n",
    "                hv_test_df.loc[len(hv_test_df.index)] = {'hv' : hv_file['test_hv']['hv'], 'dataset' : taskid, 'exp' : exp, 'num_pts':hv_file['test_hv']['num_pts'],'avg_pred_perf':hv_file['test_hv']['avg_pred_perf'], 'avg_fair_perf':hv_file['test_hv']['avg_fair_perf']}\n",
    "                \n",
    "            else:\n",
    "                x_vals = [] # auroc, etc\n",
    "                y_vals = [] # fnr, etc.\n",
    "\n",
    "                results_file = f\"{save_folder}/scores.pkl\"\n",
    "                with open(results_file,'rb') as file:\n",
    "                    this_df = pd.read_pickle(file)\n",
    "        \n",
    "                # Each run has 5000 individuals, and therefore will have one hv for validation set and one for test set\n",
    "                # based on pareto-front derived from these 1000 individuals\n",
    "                train_pred_perf = this_df['train_'+objectives[0]].to_numpy()\n",
    "                x_vals = 1-train_pred_perf\n",
    "                y_vals = this_df['train_'+objectives[1]].to_numpy()\n",
    "\n",
    "                PF = front(x_vals,y_vals)\n",
    "                pf_x = [x_vals[i] for i in PF]\n",
    "                pf_y = [y_vals[i] for i in PF]\n",
    "                hv = pyhv.hypervolume([(xi,yi) for xi,yi in zip(pf_x,pf_y)], ref=np.array([1,1]))\n",
    "                avg_pred_perf = np.mean([1-x for x in pf_x])\n",
    "                avg_fair_perf = np.mean(pf_y)\n",
    "                hv_df.loc[len(hv_df.index)] = {'hv' : hv, 'dataset' : task_id, 'exp' : exp, 'num_pts':len(pf_x),'avg_pred_perf':avg_pred_perf, 'avg_fair_perf':avg_fair_perf}\n",
    "        \n",
    "                test_pred_perf = this_df[objectives[0]].to_numpy()\n",
    "                x_vals = 1-test_pred_perf\n",
    "                y_vals = this_df[objectives[1]].to_numpy()\n",
    "\n",
    "                PF = front(x_vals,y_vals)\n",
    "                pf_x = [x_vals[i] for i in PF]\n",
    "                pf_y = [y_vals[i] for i in PF]\n",
    "                hv = pyhv.hypervolume([(xi,yi) for xi,yi in zip(pf_x,pf_y)], ref=np.array([1,1]))\n",
    "                avg_pred_perf = np.mean([1-x for x in pf_x])\n",
    "                avg_fair_perf = np.mean(pf_y)\n",
    "                hv_test_df.loc[len(hv_test_df.index)] = {'hv' : hv, 'dataset' : task_id, 'exp' : exp, 'num_pts':len(pf_x),'avg_pred_perf':avg_pred_perf, 'avg_fair_perf':avg_fair_perf}\n",
    "\n",
    "    hv_train_file = f\"{hv_folder}/hv_train_{task_id}.csv\"\n",
    "    hv_test_file = f\"{hv_folder}/hv_test_{task_id}.csv\"\n",
    "    hv_df.to_csv(hv_train_file)\n",
    "    hv_test_df.to_csv(hv_test_file)\n",
    "\n",
    "task_ids = ['heart_disease', 'student_math', 'student_por', 'creditg', 'titanic', 'us_crime', 'compas_violent', 'nlsy', 'compas', 'law_school','pmad_phq', 'pmad_epds']\n",
    "experiments1 = ['Equal Weights',\n",
    "               'Deterministic Weights',\n",
    "              'Evolved Weights']\n",
    "objective_functions=['auroc', 'subgroup_FNR_loss']\n",
    "#objective_functions=['accuracy', 'demographic_parity_difference']\n",
    "results_folder = 'analysis/results12'\n",
    "hv_folder = 'analysis/hv_values12'\n",
    "\n",
    "files_dir = [\n",
    "    f for f in os.listdir(results_folder) if os.path.isdir(os.path.join(results_folder, f))\n",
    "]\n",
    "print(files_dir)\n",
    "\n",
    "for task_id in task_ids:\n",
    "    print('Processing task_id:', task_id)\n",
    "    save_hv_results(f'{results_folder}/{files_dir[0]}', hv_folder, task_id, experiments1,objective_functions, 20)"
   ]
  },
  {
   "cell_type": "code",
   "execution_count": 18,
   "id": "341014e0",
   "metadata": {},
   "outputs": [
    {
     "ename": "FileNotFoundError",
     "evalue": "[Errno 2] No such file or directory: 'analysis/hv_values12/hv_test_creditg.csv'",
     "output_type": "error",
     "traceback": [
      "\u001b[0;31m---------------------------------------------------------------------------\u001b[0m",
      "\u001b[0;31mFileNotFoundError\u001b[0m                         Traceback (most recent call last)",
      "Cell \u001b[0;32mIn[18], line 7\u001b[0m\n\u001b[1;32m      4\u001b[0m csv_files \u001b[38;5;241m=\u001b[39m [\u001b[38;5;124mf\u001b[39m\u001b[38;5;124m\"\u001b[39m\u001b[38;5;132;01m{\u001b[39;00mhv_folder\u001b[38;5;132;01m}\u001b[39;00m\u001b[38;5;124m/hv_test_\u001b[39m\u001b[38;5;132;01m{\u001b[39;00mtask_id\u001b[38;5;132;01m}\u001b[39;00m\u001b[38;5;124m.csv\u001b[39m\u001b[38;5;124m\"\u001b[39m \u001b[38;5;28;01mfor\u001b[39;00m task_id \u001b[38;5;129;01min\u001b[39;00m task_ids]\n\u001b[1;32m      6\u001b[0m \u001b[38;5;66;03m# Read and concatenate all CSV files into one dataframe\u001b[39;00m\n\u001b[0;32m----> 7\u001b[0m df_list \u001b[38;5;241m=\u001b[39m [pd\u001b[38;5;241m.\u001b[39mread_csv(file) \u001b[38;5;28;01mfor\u001b[39;00m file \u001b[38;5;129;01min\u001b[39;00m csv_files]  \u001b[38;5;66;03m# Reading each file into a DataFrame\u001b[39;00m\n\u001b[1;32m      8\u001b[0m merged_df \u001b[38;5;241m=\u001b[39m pd\u001b[38;5;241m.\u001b[39mconcat(df_list, ignore_index\u001b[38;5;241m=\u001b[39m\u001b[38;5;28;01mTrue\u001b[39;00m)    \u001b[38;5;66;03m# Concatenating DataFrames\u001b[39;00m\n\u001b[1;32m     10\u001b[0m \u001b[38;5;66;03m# Save the merged dataframe into a new CSV file\u001b[39;00m\n",
      "Cell \u001b[0;32mIn[18], line 7\u001b[0m, in \u001b[0;36m<listcomp>\u001b[0;34m(.0)\u001b[0m\n\u001b[1;32m      4\u001b[0m csv_files \u001b[38;5;241m=\u001b[39m [\u001b[38;5;124mf\u001b[39m\u001b[38;5;124m\"\u001b[39m\u001b[38;5;132;01m{\u001b[39;00mhv_folder\u001b[38;5;132;01m}\u001b[39;00m\u001b[38;5;124m/hv_test_\u001b[39m\u001b[38;5;132;01m{\u001b[39;00mtask_id\u001b[38;5;132;01m}\u001b[39;00m\u001b[38;5;124m.csv\u001b[39m\u001b[38;5;124m\"\u001b[39m \u001b[38;5;28;01mfor\u001b[39;00m task_id \u001b[38;5;129;01min\u001b[39;00m task_ids]\n\u001b[1;32m      6\u001b[0m \u001b[38;5;66;03m# Read and concatenate all CSV files into one dataframe\u001b[39;00m\n\u001b[0;32m----> 7\u001b[0m df_list \u001b[38;5;241m=\u001b[39m [\u001b[43mpd\u001b[49m\u001b[38;5;241;43m.\u001b[39;49m\u001b[43mread_csv\u001b[49m\u001b[43m(\u001b[49m\u001b[43mfile\u001b[49m\u001b[43m)\u001b[49m \u001b[38;5;28;01mfor\u001b[39;00m file \u001b[38;5;129;01min\u001b[39;00m csv_files]  \u001b[38;5;66;03m# Reading each file into a DataFrame\u001b[39;00m\n\u001b[1;32m      8\u001b[0m merged_df \u001b[38;5;241m=\u001b[39m pd\u001b[38;5;241m.\u001b[39mconcat(df_list, ignore_index\u001b[38;5;241m=\u001b[39m\u001b[38;5;28;01mTrue\u001b[39;00m)    \u001b[38;5;66;03m# Concatenating DataFrames\u001b[39;00m\n\u001b[1;32m     10\u001b[0m \u001b[38;5;66;03m# Save the merged dataframe into a new CSV file\u001b[39;00m\n",
      "File \u001b[0;32m~/opt/anaconda3/envs/tpot2env/lib/python3.10/site-packages/pandas/io/parsers/readers.py:1026\u001b[0m, in \u001b[0;36mread_csv\u001b[0;34m(filepath_or_buffer, sep, delimiter, header, names, index_col, usecols, dtype, engine, converters, true_values, false_values, skipinitialspace, skiprows, skipfooter, nrows, na_values, keep_default_na, na_filter, verbose, skip_blank_lines, parse_dates, infer_datetime_format, keep_date_col, date_parser, date_format, dayfirst, cache_dates, iterator, chunksize, compression, thousands, decimal, lineterminator, quotechar, quoting, doublequote, escapechar, comment, encoding, encoding_errors, dialect, on_bad_lines, delim_whitespace, low_memory, memory_map, float_precision, storage_options, dtype_backend)\u001b[0m\n\u001b[1;32m   1013\u001b[0m kwds_defaults \u001b[38;5;241m=\u001b[39m _refine_defaults_read(\n\u001b[1;32m   1014\u001b[0m     dialect,\n\u001b[1;32m   1015\u001b[0m     delimiter,\n\u001b[0;32m   (...)\u001b[0m\n\u001b[1;32m   1022\u001b[0m     dtype_backend\u001b[38;5;241m=\u001b[39mdtype_backend,\n\u001b[1;32m   1023\u001b[0m )\n\u001b[1;32m   1024\u001b[0m kwds\u001b[38;5;241m.\u001b[39mupdate(kwds_defaults)\n\u001b[0;32m-> 1026\u001b[0m \u001b[38;5;28;01mreturn\u001b[39;00m \u001b[43m_read\u001b[49m\u001b[43m(\u001b[49m\u001b[43mfilepath_or_buffer\u001b[49m\u001b[43m,\u001b[49m\u001b[43m \u001b[49m\u001b[43mkwds\u001b[49m\u001b[43m)\u001b[49m\n",
      "File \u001b[0;32m~/opt/anaconda3/envs/tpot2env/lib/python3.10/site-packages/pandas/io/parsers/readers.py:620\u001b[0m, in \u001b[0;36m_read\u001b[0;34m(filepath_or_buffer, kwds)\u001b[0m\n\u001b[1;32m    617\u001b[0m _validate_names(kwds\u001b[38;5;241m.\u001b[39mget(\u001b[38;5;124m\"\u001b[39m\u001b[38;5;124mnames\u001b[39m\u001b[38;5;124m\"\u001b[39m, \u001b[38;5;28;01mNone\u001b[39;00m))\n\u001b[1;32m    619\u001b[0m \u001b[38;5;66;03m# Create the parser.\u001b[39;00m\n\u001b[0;32m--> 620\u001b[0m parser \u001b[38;5;241m=\u001b[39m \u001b[43mTextFileReader\u001b[49m\u001b[43m(\u001b[49m\u001b[43mfilepath_or_buffer\u001b[49m\u001b[43m,\u001b[49m\u001b[43m \u001b[49m\u001b[38;5;241;43m*\u001b[39;49m\u001b[38;5;241;43m*\u001b[39;49m\u001b[43mkwds\u001b[49m\u001b[43m)\u001b[49m\n\u001b[1;32m    622\u001b[0m \u001b[38;5;28;01mif\u001b[39;00m chunksize \u001b[38;5;129;01mor\u001b[39;00m iterator:\n\u001b[1;32m    623\u001b[0m     \u001b[38;5;28;01mreturn\u001b[39;00m parser\n",
      "File \u001b[0;32m~/opt/anaconda3/envs/tpot2env/lib/python3.10/site-packages/pandas/io/parsers/readers.py:1620\u001b[0m, in \u001b[0;36mTextFileReader.__init__\u001b[0;34m(self, f, engine, **kwds)\u001b[0m\n\u001b[1;32m   1617\u001b[0m     \u001b[38;5;28mself\u001b[39m\u001b[38;5;241m.\u001b[39moptions[\u001b[38;5;124m\"\u001b[39m\u001b[38;5;124mhas_index_names\u001b[39m\u001b[38;5;124m\"\u001b[39m] \u001b[38;5;241m=\u001b[39m kwds[\u001b[38;5;124m\"\u001b[39m\u001b[38;5;124mhas_index_names\u001b[39m\u001b[38;5;124m\"\u001b[39m]\n\u001b[1;32m   1619\u001b[0m \u001b[38;5;28mself\u001b[39m\u001b[38;5;241m.\u001b[39mhandles: IOHandles \u001b[38;5;241m|\u001b[39m \u001b[38;5;28;01mNone\u001b[39;00m \u001b[38;5;241m=\u001b[39m \u001b[38;5;28;01mNone\u001b[39;00m\n\u001b[0;32m-> 1620\u001b[0m \u001b[38;5;28mself\u001b[39m\u001b[38;5;241m.\u001b[39m_engine \u001b[38;5;241m=\u001b[39m \u001b[38;5;28;43mself\u001b[39;49m\u001b[38;5;241;43m.\u001b[39;49m\u001b[43m_make_engine\u001b[49m\u001b[43m(\u001b[49m\u001b[43mf\u001b[49m\u001b[43m,\u001b[49m\u001b[43m \u001b[49m\u001b[38;5;28;43mself\u001b[39;49m\u001b[38;5;241;43m.\u001b[39;49m\u001b[43mengine\u001b[49m\u001b[43m)\u001b[49m\n",
      "File \u001b[0;32m~/opt/anaconda3/envs/tpot2env/lib/python3.10/site-packages/pandas/io/parsers/readers.py:1880\u001b[0m, in \u001b[0;36mTextFileReader._make_engine\u001b[0;34m(self, f, engine)\u001b[0m\n\u001b[1;32m   1878\u001b[0m     \u001b[38;5;28;01mif\u001b[39;00m \u001b[38;5;124m\"\u001b[39m\u001b[38;5;124mb\u001b[39m\u001b[38;5;124m\"\u001b[39m \u001b[38;5;129;01mnot\u001b[39;00m \u001b[38;5;129;01min\u001b[39;00m mode:\n\u001b[1;32m   1879\u001b[0m         mode \u001b[38;5;241m+\u001b[39m\u001b[38;5;241m=\u001b[39m \u001b[38;5;124m\"\u001b[39m\u001b[38;5;124mb\u001b[39m\u001b[38;5;124m\"\u001b[39m\n\u001b[0;32m-> 1880\u001b[0m \u001b[38;5;28mself\u001b[39m\u001b[38;5;241m.\u001b[39mhandles \u001b[38;5;241m=\u001b[39m \u001b[43mget_handle\u001b[49m\u001b[43m(\u001b[49m\n\u001b[1;32m   1881\u001b[0m \u001b[43m    \u001b[49m\u001b[43mf\u001b[49m\u001b[43m,\u001b[49m\n\u001b[1;32m   1882\u001b[0m \u001b[43m    \u001b[49m\u001b[43mmode\u001b[49m\u001b[43m,\u001b[49m\n\u001b[1;32m   1883\u001b[0m \u001b[43m    \u001b[49m\u001b[43mencoding\u001b[49m\u001b[38;5;241;43m=\u001b[39;49m\u001b[38;5;28;43mself\u001b[39;49m\u001b[38;5;241;43m.\u001b[39;49m\u001b[43moptions\u001b[49m\u001b[38;5;241;43m.\u001b[39;49m\u001b[43mget\u001b[49m\u001b[43m(\u001b[49m\u001b[38;5;124;43m\"\u001b[39;49m\u001b[38;5;124;43mencoding\u001b[39;49m\u001b[38;5;124;43m\"\u001b[39;49m\u001b[43m,\u001b[49m\u001b[43m \u001b[49m\u001b[38;5;28;43;01mNone\u001b[39;49;00m\u001b[43m)\u001b[49m\u001b[43m,\u001b[49m\n\u001b[1;32m   1884\u001b[0m \u001b[43m    \u001b[49m\u001b[43mcompression\u001b[49m\u001b[38;5;241;43m=\u001b[39;49m\u001b[38;5;28;43mself\u001b[39;49m\u001b[38;5;241;43m.\u001b[39;49m\u001b[43moptions\u001b[49m\u001b[38;5;241;43m.\u001b[39;49m\u001b[43mget\u001b[49m\u001b[43m(\u001b[49m\u001b[38;5;124;43m\"\u001b[39;49m\u001b[38;5;124;43mcompression\u001b[39;49m\u001b[38;5;124;43m\"\u001b[39;49m\u001b[43m,\u001b[49m\u001b[43m \u001b[49m\u001b[38;5;28;43;01mNone\u001b[39;49;00m\u001b[43m)\u001b[49m\u001b[43m,\u001b[49m\n\u001b[1;32m   1885\u001b[0m \u001b[43m    \u001b[49m\u001b[43mmemory_map\u001b[49m\u001b[38;5;241;43m=\u001b[39;49m\u001b[38;5;28;43mself\u001b[39;49m\u001b[38;5;241;43m.\u001b[39;49m\u001b[43moptions\u001b[49m\u001b[38;5;241;43m.\u001b[39;49m\u001b[43mget\u001b[49m\u001b[43m(\u001b[49m\u001b[38;5;124;43m\"\u001b[39;49m\u001b[38;5;124;43mmemory_map\u001b[39;49m\u001b[38;5;124;43m\"\u001b[39;49m\u001b[43m,\u001b[49m\u001b[43m \u001b[49m\u001b[38;5;28;43;01mFalse\u001b[39;49;00m\u001b[43m)\u001b[49m\u001b[43m,\u001b[49m\n\u001b[1;32m   1886\u001b[0m \u001b[43m    \u001b[49m\u001b[43mis_text\u001b[49m\u001b[38;5;241;43m=\u001b[39;49m\u001b[43mis_text\u001b[49m\u001b[43m,\u001b[49m\n\u001b[1;32m   1887\u001b[0m \u001b[43m    \u001b[49m\u001b[43merrors\u001b[49m\u001b[38;5;241;43m=\u001b[39;49m\u001b[38;5;28;43mself\u001b[39;49m\u001b[38;5;241;43m.\u001b[39;49m\u001b[43moptions\u001b[49m\u001b[38;5;241;43m.\u001b[39;49m\u001b[43mget\u001b[49m\u001b[43m(\u001b[49m\u001b[38;5;124;43m\"\u001b[39;49m\u001b[38;5;124;43mencoding_errors\u001b[39;49m\u001b[38;5;124;43m\"\u001b[39;49m\u001b[43m,\u001b[49m\u001b[43m \u001b[49m\u001b[38;5;124;43m\"\u001b[39;49m\u001b[38;5;124;43mstrict\u001b[39;49m\u001b[38;5;124;43m\"\u001b[39;49m\u001b[43m)\u001b[49m\u001b[43m,\u001b[49m\n\u001b[1;32m   1888\u001b[0m \u001b[43m    \u001b[49m\u001b[43mstorage_options\u001b[49m\u001b[38;5;241;43m=\u001b[39;49m\u001b[38;5;28;43mself\u001b[39;49m\u001b[38;5;241;43m.\u001b[39;49m\u001b[43moptions\u001b[49m\u001b[38;5;241;43m.\u001b[39;49m\u001b[43mget\u001b[49m\u001b[43m(\u001b[49m\u001b[38;5;124;43m\"\u001b[39;49m\u001b[38;5;124;43mstorage_options\u001b[39;49m\u001b[38;5;124;43m\"\u001b[39;49m\u001b[43m,\u001b[49m\u001b[43m \u001b[49m\u001b[38;5;28;43;01mNone\u001b[39;49;00m\u001b[43m)\u001b[49m\u001b[43m,\u001b[49m\n\u001b[1;32m   1889\u001b[0m \u001b[43m\u001b[49m\u001b[43m)\u001b[49m\n\u001b[1;32m   1890\u001b[0m \u001b[38;5;28;01massert\u001b[39;00m \u001b[38;5;28mself\u001b[39m\u001b[38;5;241m.\u001b[39mhandles \u001b[38;5;129;01mis\u001b[39;00m \u001b[38;5;129;01mnot\u001b[39;00m \u001b[38;5;28;01mNone\u001b[39;00m\n\u001b[1;32m   1891\u001b[0m f \u001b[38;5;241m=\u001b[39m \u001b[38;5;28mself\u001b[39m\u001b[38;5;241m.\u001b[39mhandles\u001b[38;5;241m.\u001b[39mhandle\n",
      "File \u001b[0;32m~/opt/anaconda3/envs/tpot2env/lib/python3.10/site-packages/pandas/io/common.py:873\u001b[0m, in \u001b[0;36mget_handle\u001b[0;34m(path_or_buf, mode, encoding, compression, memory_map, is_text, errors, storage_options)\u001b[0m\n\u001b[1;32m    868\u001b[0m \u001b[38;5;28;01melif\u001b[39;00m \u001b[38;5;28misinstance\u001b[39m(handle, \u001b[38;5;28mstr\u001b[39m):\n\u001b[1;32m    869\u001b[0m     \u001b[38;5;66;03m# Check whether the filename is to be opened in binary mode.\u001b[39;00m\n\u001b[1;32m    870\u001b[0m     \u001b[38;5;66;03m# Binary mode does not support 'encoding' and 'newline'.\u001b[39;00m\n\u001b[1;32m    871\u001b[0m     \u001b[38;5;28;01mif\u001b[39;00m ioargs\u001b[38;5;241m.\u001b[39mencoding \u001b[38;5;129;01mand\u001b[39;00m \u001b[38;5;124m\"\u001b[39m\u001b[38;5;124mb\u001b[39m\u001b[38;5;124m\"\u001b[39m \u001b[38;5;129;01mnot\u001b[39;00m \u001b[38;5;129;01min\u001b[39;00m ioargs\u001b[38;5;241m.\u001b[39mmode:\n\u001b[1;32m    872\u001b[0m         \u001b[38;5;66;03m# Encoding\u001b[39;00m\n\u001b[0;32m--> 873\u001b[0m         handle \u001b[38;5;241m=\u001b[39m \u001b[38;5;28;43mopen\u001b[39;49m\u001b[43m(\u001b[49m\n\u001b[1;32m    874\u001b[0m \u001b[43m            \u001b[49m\u001b[43mhandle\u001b[49m\u001b[43m,\u001b[49m\n\u001b[1;32m    875\u001b[0m \u001b[43m            \u001b[49m\u001b[43mioargs\u001b[49m\u001b[38;5;241;43m.\u001b[39;49m\u001b[43mmode\u001b[49m\u001b[43m,\u001b[49m\n\u001b[1;32m    876\u001b[0m \u001b[43m            \u001b[49m\u001b[43mencoding\u001b[49m\u001b[38;5;241;43m=\u001b[39;49m\u001b[43mioargs\u001b[49m\u001b[38;5;241;43m.\u001b[39;49m\u001b[43mencoding\u001b[49m\u001b[43m,\u001b[49m\n\u001b[1;32m    877\u001b[0m \u001b[43m            \u001b[49m\u001b[43merrors\u001b[49m\u001b[38;5;241;43m=\u001b[39;49m\u001b[43merrors\u001b[49m\u001b[43m,\u001b[49m\n\u001b[1;32m    878\u001b[0m \u001b[43m            \u001b[49m\u001b[43mnewline\u001b[49m\u001b[38;5;241;43m=\u001b[39;49m\u001b[38;5;124;43m\"\u001b[39;49m\u001b[38;5;124;43m\"\u001b[39;49m\u001b[43m,\u001b[49m\n\u001b[1;32m    879\u001b[0m \u001b[43m        \u001b[49m\u001b[43m)\u001b[49m\n\u001b[1;32m    880\u001b[0m     \u001b[38;5;28;01melse\u001b[39;00m:\n\u001b[1;32m    881\u001b[0m         \u001b[38;5;66;03m# Binary mode\u001b[39;00m\n\u001b[1;32m    882\u001b[0m         handle \u001b[38;5;241m=\u001b[39m \u001b[38;5;28mopen\u001b[39m(handle, ioargs\u001b[38;5;241m.\u001b[39mmode)\n",
      "\u001b[0;31mFileNotFoundError\u001b[0m: [Errno 2] No such file or directory: 'analysis/hv_values12/hv_test_creditg.csv'"
     ]
    }
   ],
   "source": [
    "hv_folder = 'analysis/hv_values12'\n",
    "\n",
    "# List of CSV files to be merged\n",
    "csv_files = [f\"{hv_folder}/hv_test_{task_id}.csv\" for task_id in task_ids]\n",
    "\n",
    "# Read and concatenate all CSV files into one dataframe\n",
    "df_list = [pd.read_csv(file) for file in csv_files]  # Reading each file into a DataFrame\n",
    "merged_df = pd.concat(df_list, ignore_index=True)    # Concatenating DataFrames\n",
    "\n",
    "# Save the merged dataframe into a new CSV file\n",
    "output_file = f\"{hv_folder}/hv_test.csv\"\n",
    "merged_df.to_csv(output_file, index=False)\n",
    "\n",
    "print(f\"Merged CSV file saved as {output_file}\")"
   ]
  },
  {
   "cell_type": "code",
   "execution_count": null,
   "id": "90d4113a-1f6a-4f7c-b966-46b6f9db2736",
   "metadata": {},
   "outputs": [],
   "source": []
  }
 ],
 "metadata": {
  "kernelspec": {
   "display_name": "Python 3 (ipykernel)",
   "language": "python",
   "name": "python3"
  },
  "language_info": {
   "codemirror_mode": {
    "name": "ipython",
    "version": 3
   },
   "file_extension": ".py",
   "mimetype": "text/x-python",
   "name": "python",
   "nbconvert_exporter": "python",
   "pygments_lexer": "ipython3",
   "version": "3.10.15"
  }
 },
 "nbformat": 4,
 "nbformat_minor": 5
}
